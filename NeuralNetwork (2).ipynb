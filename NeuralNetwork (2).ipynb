{
  "nbformat": 4,
  "nbformat_minor": 0,
  "metadata": {
    "kernelspec": {
      "display_name": "Python 3",
      "language": "python",
      "name": "python3"
    },
    "language_info": {
      "codemirror_mode": {
        "name": "ipython",
        "version": 3
      },
      "file_extension": ".py",
      "mimetype": "text/x-python",
      "name": "python",
      "nbconvert_exporter": "python",
      "pygments_lexer": "ipython3",
      "version": "3.6.10"
    },
    "colab": {
      "name": "NeuralNetwork.ipynb",
      "provenance": [],
      "collapsed_sections": []
    },
    "accelerator": "GPU"
  },
  "cells": [
    {
      "cell_type": "code",
      "metadata": {
        "id": "6XF9zePUV1jN",
        "colab_type": "code",
        "colab": {
          "base_uri": "https://localhost:8080/",
          "height": 71
        },
        "outputId": "fe23b134-8a09-4ab5-f1b5-2dae3ea80cf7"
      },
      "source": [
        "import pandas as pd\n",
        "import numpy as np\n",
        "from matplotlib import pyplot as plt\n",
        "from matplotlib import style\n",
        "import seaborn as sns #for background style for plots\n",
        "from matplotlib.pyplot import figure #plot size\n",
        "import matplotlib.style #Setting the theme of your plots\n",
        "\n",
        "pd.set_option('display.max_columns', 100)\n",
        "pd.set_option('display.max_rows',100)"
      ],
      "execution_count": 2,
      "outputs": [
        {
          "output_type": "stream",
          "text": [
            "/usr/local/lib/python3.6/dist-packages/statsmodels/tools/_testing.py:19: FutureWarning: pandas.util.testing is deprecated. Use the functions in the public API at pandas.testing instead.\n",
            "  import pandas.util.testing as tm\n"
          ],
          "name": "stderr"
        }
      ]
    },
    {
      "cell_type": "markdown",
      "metadata": {
        "id": "BjW7XFYKV1j5",
        "colab_type": "text"
      },
      "source": [
        "# Data Collection"
      ]
    },
    {
      "cell_type": "code",
      "metadata": {
        "id": "X4uyUgihV1j_",
        "colab_type": "code",
        "colab": {
          "base_uri": "https://localhost:8080/",
          "height": 326
        },
        "outputId": "5fd7875d-6c94-4eca-b981-9ca0a4f53244"
      },
      "source": [
        "data=pd.read_csv(\"/content/drive/My Drive/projects/churn_status/TRAIN.csv\")\n",
        "print(data.shape)\n",
        "data.head()"
      ],
      "execution_count": 3,
      "outputs": [
        {
          "output_type": "stream",
          "text": [
            "(1401, 16)\n"
          ],
          "name": "stdout"
        },
        {
          "output_type": "execute_result",
          "data": {
            "text/html": [
              "<div>\n",
              "<style scoped>\n",
              "    .dataframe tbody tr th:only-of-type {\n",
              "        vertical-align: middle;\n",
              "    }\n",
              "\n",
              "    .dataframe tbody tr th {\n",
              "        vertical-align: top;\n",
              "    }\n",
              "\n",
              "    .dataframe thead th {\n",
              "        text-align: right;\n",
              "    }\n",
              "</style>\n",
              "<table border=\"1\" class=\"dataframe\">\n",
              "  <thead>\n",
              "    <tr style=\"text-align: right;\">\n",
              "      <th></th>\n",
              "      <th>Customer ID</th>\n",
              "      <th>network_age</th>\n",
              "      <th>Customer tenure in month</th>\n",
              "      <th>Total Spend in Months 1 and 2 of 2017</th>\n",
              "      <th>Total SMS Spend</th>\n",
              "      <th>Total Data Spend</th>\n",
              "      <th>Total Data Consumption</th>\n",
              "      <th>Total Unique Calls</th>\n",
              "      <th>Total Onnet spend</th>\n",
              "      <th>Total Offnet spend</th>\n",
              "      <th>Total Call centre complaint calls</th>\n",
              "      <th>Network type subscription in Month 1</th>\n",
              "      <th>Network type subscription in Month 2</th>\n",
              "      <th>Most Loved Competitor network in in Month 1</th>\n",
              "      <th>Most Loved Competitor network in in Month 2</th>\n",
              "      <th>Churn Status</th>\n",
              "    </tr>\n",
              "  </thead>\n",
              "  <tbody>\n",
              "    <tr>\n",
              "      <th>0</th>\n",
              "      <td>ADF0039</td>\n",
              "      <td>123.0</td>\n",
              "      <td>4.10</td>\n",
              "      <td>76.7140</td>\n",
              "      <td>0.00</td>\n",
              "      <td>1.25</td>\n",
              "      <td>1.4951</td>\n",
              "      <td>14.0</td>\n",
              "      <td>564.0</td>\n",
              "      <td>6408.0</td>\n",
              "      <td>2.0</td>\n",
              "      <td>2G</td>\n",
              "      <td>2G</td>\n",
              "      <td>Uxaa</td>\n",
              "      <td>Mango</td>\n",
              "      <td>0.0</td>\n",
              "    </tr>\n",
              "    <tr>\n",
              "      <th>1</th>\n",
              "      <td>ADF0041</td>\n",
              "      <td>1316.0</td>\n",
              "      <td>43.87</td>\n",
              "      <td>98.8904</td>\n",
              "      <td>4.14</td>\n",
              "      <td>1.25</td>\n",
              "      <td>1.0244</td>\n",
              "      <td>27.0</td>\n",
              "      <td>1626.0</td>\n",
              "      <td>4373.0</td>\n",
              "      <td>1.0</td>\n",
              "      <td>2G</td>\n",
              "      <td>2G</td>\n",
              "      <td>Uxaa</td>\n",
              "      <td>Mango</td>\n",
              "      <td>0.0</td>\n",
              "    </tr>\n",
              "    <tr>\n",
              "      <th>2</th>\n",
              "      <td>ADF0051</td>\n",
              "      <td>2385.0</td>\n",
              "      <td>79.50</td>\n",
              "      <td>372.6300</td>\n",
              "      <td>3.51</td>\n",
              "      <td>1.25</td>\n",
              "      <td>6.0898</td>\n",
              "      <td>119.0</td>\n",
              "      <td>10411.0</td>\n",
              "      <td>22039.0</td>\n",
              "      <td>1.0</td>\n",
              "      <td>2G</td>\n",
              "      <td>2G</td>\n",
              "      <td>Weematel</td>\n",
              "      <td>Mango</td>\n",
              "      <td>0.0</td>\n",
              "    </tr>\n",
              "    <tr>\n",
              "      <th>3</th>\n",
              "      <td>ADF0059</td>\n",
              "      <td>1614.0</td>\n",
              "      <td>53.80</td>\n",
              "      <td>530.2000</td>\n",
              "      <td>6.85</td>\n",
              "      <td>1.25</td>\n",
              "      <td>3.3447</td>\n",
              "      <td>69.0</td>\n",
              "      <td>6822.0</td>\n",
              "      <td>6274.0</td>\n",
              "      <td>1.0</td>\n",
              "      <td>2G</td>\n",
              "      <td>2G</td>\n",
              "      <td>0</td>\n",
              "      <td>Mango</td>\n",
              "      <td>0.0</td>\n",
              "    </tr>\n",
              "    <tr>\n",
              "      <th>4</th>\n",
              "      <td>ADF0060</td>\n",
              "      <td>2175.0</td>\n",
              "      <td>72.50</td>\n",
              "      <td>554.1300</td>\n",
              "      <td>6.99</td>\n",
              "      <td>153.75</td>\n",
              "      <td>673204.0342</td>\n",
              "      <td>33.0</td>\n",
              "      <td>3387.0</td>\n",
              "      <td>7241.0</td>\n",
              "      <td>1.0</td>\n",
              "      <td>2G</td>\n",
              "      <td>3G</td>\n",
              "      <td>Weematel</td>\n",
              "      <td>Mango</td>\n",
              "      <td>0.0</td>\n",
              "    </tr>\n",
              "  </tbody>\n",
              "</table>\n",
              "</div>"
            ],
            "text/plain": [
              "  Customer ID  network_age  Customer tenure in month  \\\n",
              "0     ADF0039        123.0                      4.10   \n",
              "1     ADF0041       1316.0                     43.87   \n",
              "2     ADF0051       2385.0                     79.50   \n",
              "3     ADF0059       1614.0                     53.80   \n",
              "4     ADF0060       2175.0                     72.50   \n",
              "\n",
              "   Total Spend in Months 1 and 2 of 2017  Total SMS Spend  Total Data Spend  \\\n",
              "0                                76.7140             0.00              1.25   \n",
              "1                                98.8904             4.14              1.25   \n",
              "2                               372.6300             3.51              1.25   \n",
              "3                               530.2000             6.85              1.25   \n",
              "4                               554.1300             6.99            153.75   \n",
              "\n",
              "   Total Data Consumption  Total Unique Calls  Total Onnet spend   \\\n",
              "0                  1.4951                14.0               564.0   \n",
              "1                  1.0244                27.0              1626.0   \n",
              "2                  6.0898               119.0             10411.0   \n",
              "3                  3.3447                69.0              6822.0   \n",
              "4             673204.0342                33.0              3387.0   \n",
              "\n",
              "   Total Offnet spend  Total Call centre complaint calls  \\\n",
              "0              6408.0                                2.0   \n",
              "1              4373.0                                1.0   \n",
              "2             22039.0                                1.0   \n",
              "3              6274.0                                1.0   \n",
              "4              7241.0                                1.0   \n",
              "\n",
              "  Network type subscription in Month 1 Network type subscription in Month 2  \\\n",
              "0                                   2G                                   2G   \n",
              "1                                   2G                                   2G   \n",
              "2                                   2G                                   2G   \n",
              "3                                   2G                                   2G   \n",
              "4                                   2G                                   3G   \n",
              "\n",
              "  Most Loved Competitor network in in Month 1  \\\n",
              "0                                        Uxaa   \n",
              "1                                        Uxaa   \n",
              "2                                    Weematel   \n",
              "3                                           0   \n",
              "4                                    Weematel   \n",
              "\n",
              "  Most Loved Competitor network in in Month 2  Churn Status  \n",
              "0                                       Mango           0.0  \n",
              "1                                       Mango           0.0  \n",
              "2                                       Mango           0.0  \n",
              "3                                       Mango           0.0  \n",
              "4                                       Mango           0.0  "
            ]
          },
          "metadata": {
            "tags": []
          },
          "execution_count": 3
        }
      ]
    },
    {
      "cell_type": "markdown",
      "metadata": {
        "id": "EelytDMXV1kt",
        "colab_type": "text"
      },
      "source": [
        "# EDA & Preprocessing"
      ]
    },
    {
      "cell_type": "code",
      "metadata": {
        "id": "1kH1bx7qV1ky",
        "colab_type": "code",
        "colab": {}
      },
      "source": [
        "data.columns=data.columns.str.replace(' ', '')"
      ],
      "execution_count": 4,
      "outputs": []
    },
    {
      "cell_type": "code",
      "metadata": {
        "id": "5XfacxelV1lO",
        "colab_type": "code",
        "colab": {
          "base_uri": "https://localhost:8080/",
          "height": 306
        },
        "outputId": "eab3b774-c21b-477e-90ae-14f9b01b1031"
      },
      "source": [
        "#Missing Values identifying\n",
        "\n",
        "data.isnull().sum()"
      ],
      "execution_count": 5,
      "outputs": [
        {
          "output_type": "execute_result",
          "data": {
            "text/plain": [
              "CustomerID                                1\n",
              "network_age                               1\n",
              "Customertenureinmonth                     1\n",
              "TotalSpendinMonths1and2of2017             1\n",
              "TotalSMSSpend                             1\n",
              "TotalDataSpend                            1\n",
              "TotalDataConsumption                      1\n",
              "TotalUniqueCalls                          1\n",
              "TotalOnnetspend                           1\n",
              "TotalOffnetspend                          1\n",
              "TotalCallcentrecomplaintcalls             1\n",
              "NetworktypesubscriptioninMonth1         176\n",
              "NetworktypesubscriptioninMonth2         145\n",
              "MostLovedCompetitornetworkininMonth1      2\n",
              "MostLovedCompetitornetworkininMonth2      2\n",
              "ChurnStatus                               1\n",
              "dtype: int64"
            ]
          },
          "metadata": {
            "tags": []
          },
          "execution_count": 5
        }
      ]
    },
    {
      "cell_type": "markdown",
      "metadata": {
        "id": "lxeR_GuNV1ls",
        "colab_type": "text"
      },
      "source": [
        "Replace null values in these columns with 'Other'"
      ]
    },
    {
      "cell_type": "code",
      "metadata": {
        "id": "Smsf35oAV1lv",
        "colab_type": "code",
        "colab": {
          "base_uri": "https://localhost:8080/",
          "height": 306
        },
        "outputId": "e93e60ae-f035-459e-c30d-2f333aea3922"
      },
      "source": [
        "data['NetworktypesubscriptioninMonth2'].fillna('Other', inplace = True)\n",
        "data['NetworktypesubscriptioninMonth1'].fillna('Other', inplace = True)\n",
        "data.isnull().sum()"
      ],
      "execution_count": 6,
      "outputs": [
        {
          "output_type": "execute_result",
          "data": {
            "text/plain": [
              "CustomerID                              1\n",
              "network_age                             1\n",
              "Customertenureinmonth                   1\n",
              "TotalSpendinMonths1and2of2017           1\n",
              "TotalSMSSpend                           1\n",
              "TotalDataSpend                          1\n",
              "TotalDataConsumption                    1\n",
              "TotalUniqueCalls                        1\n",
              "TotalOnnetspend                         1\n",
              "TotalOffnetspend                        1\n",
              "TotalCallcentrecomplaintcalls           1\n",
              "NetworktypesubscriptioninMonth1         0\n",
              "NetworktypesubscriptioninMonth2         0\n",
              "MostLovedCompetitornetworkininMonth1    2\n",
              "MostLovedCompetitornetworkininMonth2    2\n",
              "ChurnStatus                             1\n",
              "dtype: int64"
            ]
          },
          "metadata": {
            "tags": []
          },
          "execution_count": 6
        }
      ]
    },
    {
      "cell_type": "markdown",
      "metadata": {
        "id": "vqn95HAdV1mI",
        "colab_type": "text"
      },
      "source": [
        "Remove remaining null values\n"
      ]
    },
    {
      "cell_type": "code",
      "metadata": {
        "id": "wT73kSGhV1mM",
        "colab_type": "code",
        "colab": {
          "base_uri": "https://localhost:8080/",
          "height": 306
        },
        "outputId": "1838636f-b659-412d-8917-a9f5871d7026"
      },
      "source": [
        "data=data.dropna()\n",
        "data.isnull().sum()"
      ],
      "execution_count": 7,
      "outputs": [
        {
          "output_type": "execute_result",
          "data": {
            "text/plain": [
              "CustomerID                              0\n",
              "network_age                             0\n",
              "Customertenureinmonth                   0\n",
              "TotalSpendinMonths1and2of2017           0\n",
              "TotalSMSSpend                           0\n",
              "TotalDataSpend                          0\n",
              "TotalDataConsumption                    0\n",
              "TotalUniqueCalls                        0\n",
              "TotalOnnetspend                         0\n",
              "TotalOffnetspend                        0\n",
              "TotalCallcentrecomplaintcalls           0\n",
              "NetworktypesubscriptioninMonth1         0\n",
              "NetworktypesubscriptioninMonth2         0\n",
              "MostLovedCompetitornetworkininMonth1    0\n",
              "MostLovedCompetitornetworkininMonth2    0\n",
              "ChurnStatus                             0\n",
              "dtype: int64"
            ]
          },
          "metadata": {
            "tags": []
          },
          "execution_count": 7
        }
      ]
    },
    {
      "cell_type": "code",
      "metadata": {
        "id": "c0WiVw3oV1mu",
        "colab_type": "code",
        "colab": {
          "base_uri": "https://localhost:8080/",
          "height": 85
        },
        "outputId": "0b0cb160-0265-4c80-ac0f-3e9928c63bc8"
      },
      "source": [
        "#Categorical Column\n",
        "\n",
        "cat_cols=data.select_dtypes(exclude=['int64', 'float']).columns[1:]\n",
        "cat_cols"
      ],
      "execution_count": 8,
      "outputs": [
        {
          "output_type": "execute_result",
          "data": {
            "text/plain": [
              "Index(['NetworktypesubscriptioninMonth1', 'NetworktypesubscriptioninMonth2',\n",
              "       'MostLovedCompetitornetworkininMonth1',\n",
              "       'MostLovedCompetitornetworkininMonth2'],\n",
              "      dtype='object')"
            ]
          },
          "metadata": {
            "tags": []
          },
          "execution_count": 8
        }
      ]
    },
    {
      "cell_type": "code",
      "metadata": {
        "id": "zeqW-Vl0V1nM",
        "colab_type": "code",
        "colab": {
          "base_uri": "https://localhost:8080/",
          "height": 224
        },
        "outputId": "44f754c0-7d49-4bfa-84b9-be5a1eb1bc3c"
      },
      "source": [
        "#Create categorical target variable for chi test\n",
        "data['Target']=data['ChurnStatus'].apply(lambda x: 'No' if x==0.0 else 'Yes')\n",
        "data.head()"
      ],
      "execution_count": 9,
      "outputs": [
        {
          "output_type": "execute_result",
          "data": {
            "text/html": [
              "<div>\n",
              "<style scoped>\n",
              "    .dataframe tbody tr th:only-of-type {\n",
              "        vertical-align: middle;\n",
              "    }\n",
              "\n",
              "    .dataframe tbody tr th {\n",
              "        vertical-align: top;\n",
              "    }\n",
              "\n",
              "    .dataframe thead th {\n",
              "        text-align: right;\n",
              "    }\n",
              "</style>\n",
              "<table border=\"1\" class=\"dataframe\">\n",
              "  <thead>\n",
              "    <tr style=\"text-align: right;\">\n",
              "      <th></th>\n",
              "      <th>CustomerID</th>\n",
              "      <th>network_age</th>\n",
              "      <th>Customertenureinmonth</th>\n",
              "      <th>TotalSpendinMonths1and2of2017</th>\n",
              "      <th>TotalSMSSpend</th>\n",
              "      <th>TotalDataSpend</th>\n",
              "      <th>TotalDataConsumption</th>\n",
              "      <th>TotalUniqueCalls</th>\n",
              "      <th>TotalOnnetspend</th>\n",
              "      <th>TotalOffnetspend</th>\n",
              "      <th>TotalCallcentrecomplaintcalls</th>\n",
              "      <th>NetworktypesubscriptioninMonth1</th>\n",
              "      <th>NetworktypesubscriptioninMonth2</th>\n",
              "      <th>MostLovedCompetitornetworkininMonth1</th>\n",
              "      <th>MostLovedCompetitornetworkininMonth2</th>\n",
              "      <th>ChurnStatus</th>\n",
              "      <th>Target</th>\n",
              "    </tr>\n",
              "  </thead>\n",
              "  <tbody>\n",
              "    <tr>\n",
              "      <th>0</th>\n",
              "      <td>ADF0039</td>\n",
              "      <td>123.0</td>\n",
              "      <td>4.10</td>\n",
              "      <td>76.7140</td>\n",
              "      <td>0.00</td>\n",
              "      <td>1.25</td>\n",
              "      <td>1.4951</td>\n",
              "      <td>14.0</td>\n",
              "      <td>564.0</td>\n",
              "      <td>6408.0</td>\n",
              "      <td>2.0</td>\n",
              "      <td>2G</td>\n",
              "      <td>2G</td>\n",
              "      <td>Uxaa</td>\n",
              "      <td>Mango</td>\n",
              "      <td>0.0</td>\n",
              "      <td>No</td>\n",
              "    </tr>\n",
              "    <tr>\n",
              "      <th>1</th>\n",
              "      <td>ADF0041</td>\n",
              "      <td>1316.0</td>\n",
              "      <td>43.87</td>\n",
              "      <td>98.8904</td>\n",
              "      <td>4.14</td>\n",
              "      <td>1.25</td>\n",
              "      <td>1.0244</td>\n",
              "      <td>27.0</td>\n",
              "      <td>1626.0</td>\n",
              "      <td>4373.0</td>\n",
              "      <td>1.0</td>\n",
              "      <td>2G</td>\n",
              "      <td>2G</td>\n",
              "      <td>Uxaa</td>\n",
              "      <td>Mango</td>\n",
              "      <td>0.0</td>\n",
              "      <td>No</td>\n",
              "    </tr>\n",
              "    <tr>\n",
              "      <th>2</th>\n",
              "      <td>ADF0051</td>\n",
              "      <td>2385.0</td>\n",
              "      <td>79.50</td>\n",
              "      <td>372.6300</td>\n",
              "      <td>3.51</td>\n",
              "      <td>1.25</td>\n",
              "      <td>6.0898</td>\n",
              "      <td>119.0</td>\n",
              "      <td>10411.0</td>\n",
              "      <td>22039.0</td>\n",
              "      <td>1.0</td>\n",
              "      <td>2G</td>\n",
              "      <td>2G</td>\n",
              "      <td>Weematel</td>\n",
              "      <td>Mango</td>\n",
              "      <td>0.0</td>\n",
              "      <td>No</td>\n",
              "    </tr>\n",
              "    <tr>\n",
              "      <th>3</th>\n",
              "      <td>ADF0059</td>\n",
              "      <td>1614.0</td>\n",
              "      <td>53.80</td>\n",
              "      <td>530.2000</td>\n",
              "      <td>6.85</td>\n",
              "      <td>1.25</td>\n",
              "      <td>3.3447</td>\n",
              "      <td>69.0</td>\n",
              "      <td>6822.0</td>\n",
              "      <td>6274.0</td>\n",
              "      <td>1.0</td>\n",
              "      <td>2G</td>\n",
              "      <td>2G</td>\n",
              "      <td>0</td>\n",
              "      <td>Mango</td>\n",
              "      <td>0.0</td>\n",
              "      <td>No</td>\n",
              "    </tr>\n",
              "    <tr>\n",
              "      <th>4</th>\n",
              "      <td>ADF0060</td>\n",
              "      <td>2175.0</td>\n",
              "      <td>72.50</td>\n",
              "      <td>554.1300</td>\n",
              "      <td>6.99</td>\n",
              "      <td>153.75</td>\n",
              "      <td>673204.0342</td>\n",
              "      <td>33.0</td>\n",
              "      <td>3387.0</td>\n",
              "      <td>7241.0</td>\n",
              "      <td>1.0</td>\n",
              "      <td>2G</td>\n",
              "      <td>3G</td>\n",
              "      <td>Weematel</td>\n",
              "      <td>Mango</td>\n",
              "      <td>0.0</td>\n",
              "      <td>No</td>\n",
              "    </tr>\n",
              "  </tbody>\n",
              "</table>\n",
              "</div>"
            ],
            "text/plain": [
              "  CustomerID  network_age  Customertenureinmonth  \\\n",
              "0    ADF0039        123.0                   4.10   \n",
              "1    ADF0041       1316.0                  43.87   \n",
              "2    ADF0051       2385.0                  79.50   \n",
              "3    ADF0059       1614.0                  53.80   \n",
              "4    ADF0060       2175.0                  72.50   \n",
              "\n",
              "   TotalSpendinMonths1and2of2017  TotalSMSSpend  TotalDataSpend  \\\n",
              "0                        76.7140           0.00            1.25   \n",
              "1                        98.8904           4.14            1.25   \n",
              "2                       372.6300           3.51            1.25   \n",
              "3                       530.2000           6.85            1.25   \n",
              "4                       554.1300           6.99          153.75   \n",
              "\n",
              "   TotalDataConsumption  TotalUniqueCalls  TotalOnnetspend  TotalOffnetspend  \\\n",
              "0                1.4951              14.0            564.0            6408.0   \n",
              "1                1.0244              27.0           1626.0            4373.0   \n",
              "2                6.0898             119.0          10411.0           22039.0   \n",
              "3                3.3447              69.0           6822.0            6274.0   \n",
              "4           673204.0342              33.0           3387.0            7241.0   \n",
              "\n",
              "   TotalCallcentrecomplaintcalls NetworktypesubscriptioninMonth1  \\\n",
              "0                            2.0                              2G   \n",
              "1                            1.0                              2G   \n",
              "2                            1.0                              2G   \n",
              "3                            1.0                              2G   \n",
              "4                            1.0                              2G   \n",
              "\n",
              "  NetworktypesubscriptioninMonth2 MostLovedCompetitornetworkininMonth1  \\\n",
              "0                              2G                                 Uxaa   \n",
              "1                              2G                                 Uxaa   \n",
              "2                              2G                             Weematel   \n",
              "3                              2G                                    0   \n",
              "4                              3G                             Weematel   \n",
              "\n",
              "  MostLovedCompetitornetworkininMonth2  ChurnStatus Target  \n",
              "0                                Mango          0.0     No  \n",
              "1                                Mango          0.0     No  \n",
              "2                                Mango          0.0     No  \n",
              "3                                Mango          0.0     No  \n",
              "4                                Mango          0.0     No  "
            ]
          },
          "metadata": {
            "tags": []
          },
          "execution_count": 9
        }
      ]
    },
    {
      "cell_type": "code",
      "metadata": {
        "id": "ie9VVQeOV1no",
        "colab_type": "code",
        "colab": {
          "base_uri": "https://localhost:8080/",
          "height": 85
        },
        "outputId": "e5da9596-1243-48f9-ff0f-c85d1b48874f"
      },
      "source": [
        "cat_cols"
      ],
      "execution_count": 10,
      "outputs": [
        {
          "output_type": "execute_result",
          "data": {
            "text/plain": [
              "Index(['NetworktypesubscriptioninMonth1', 'NetworktypesubscriptioninMonth2',\n",
              "       'MostLovedCompetitornetworkininMonth1',\n",
              "       'MostLovedCompetitornetworkininMonth2'],\n",
              "      dtype='object')"
            ]
          },
          "metadata": {
            "tags": []
          },
          "execution_count": 10
        }
      ]
    },
    {
      "cell_type": "code",
      "metadata": {
        "id": "N0fVInUgV1n_",
        "colab_type": "code",
        "colab": {
          "base_uri": "https://localhost:8080/",
          "height": 68
        },
        "outputId": "e4d241c8-afa2-496d-966e-a58928f470f6"
      },
      "source": [
        "import scipy.stats\n",
        "rec=[]\n",
        "for col2 in cat_cols:\n",
        "        df=pd.crosstab(data['Target'],data[col2])\n",
        "        chi= scipy.stats.chi2_contingency(df)\n",
        "        if chi[1]<=0.05:\n",
        "            print(col2 ,\"  = \" , chi[1])\n",
        "            "
      ],
      "execution_count": 11,
      "outputs": [
        {
          "output_type": "stream",
          "text": [
            "NetworktypesubscriptioninMonth2   =  0.02950498883325753\n",
            "MostLovedCompetitornetworkininMonth1   =  2.842469365863027e-05\n",
            "MostLovedCompetitornetworkininMonth2   =  9.688720785896563e-29\n"
          ],
          "name": "stdout"
        }
      ]
    },
    {
      "cell_type": "markdown",
      "metadata": {
        "id": "fmDe1RIuV1oX",
        "colab_type": "text"
      },
      "source": [
        "Target variable is dependent on these three categorical variables"
      ]
    },
    {
      "cell_type": "code",
      "metadata": {
        "id": "89-uvfn9V1oa",
        "colab_type": "code",
        "colab": {}
      },
      "source": [
        "data1=data.drop(['Target','NetworktypesubscriptioninMonth1','CustomerID'] ,axis=1)"
      ],
      "execution_count": 12,
      "outputs": []
    },
    {
      "cell_type": "code",
      "metadata": {
        "id": "2EC6zSE2V1ox",
        "colab_type": "code",
        "colab": {}
      },
      "source": [
        "#One Hot Encoding\n",
        "\n",
        "from sklearn.preprocessing import OneHotEncoder\n",
        "\n",
        "data2 = pd.get_dummies(data1,drop_first ='True')"
      ],
      "execution_count": 13,
      "outputs": []
    },
    {
      "cell_type": "code",
      "metadata": {
        "id": "H__J5J6oV1pE",
        "colab_type": "code",
        "colab": {
          "base_uri": "https://localhost:8080/",
          "height": 224
        },
        "outputId": "fb23f489-b8c7-4e2b-8b9c-25cf041c12c2"
      },
      "source": [
        "data2.head()"
      ],
      "execution_count": 14,
      "outputs": [
        {
          "output_type": "execute_result",
          "data": {
            "text/html": [
              "<div>\n",
              "<style scoped>\n",
              "    .dataframe tbody tr th:only-of-type {\n",
              "        vertical-align: middle;\n",
              "    }\n",
              "\n",
              "    .dataframe tbody tr th {\n",
              "        vertical-align: top;\n",
              "    }\n",
              "\n",
              "    .dataframe thead th {\n",
              "        text-align: right;\n",
              "    }\n",
              "</style>\n",
              "<table border=\"1\" class=\"dataframe\">\n",
              "  <thead>\n",
              "    <tr style=\"text-align: right;\">\n",
              "      <th></th>\n",
              "      <th>network_age</th>\n",
              "      <th>Customertenureinmonth</th>\n",
              "      <th>TotalSpendinMonths1and2of2017</th>\n",
              "      <th>TotalSMSSpend</th>\n",
              "      <th>TotalDataSpend</th>\n",
              "      <th>TotalDataConsumption</th>\n",
              "      <th>TotalUniqueCalls</th>\n",
              "      <th>TotalOnnetspend</th>\n",
              "      <th>TotalOffnetspend</th>\n",
              "      <th>TotalCallcentrecomplaintcalls</th>\n",
              "      <th>ChurnStatus</th>\n",
              "      <th>NetworktypesubscriptioninMonth2_3G</th>\n",
              "      <th>NetworktypesubscriptioninMonth2_Other</th>\n",
              "      <th>MostLovedCompetitornetworkininMonth1_Mango</th>\n",
              "      <th>MostLovedCompetitornetworkininMonth1_PQza</th>\n",
              "      <th>MostLovedCompetitornetworkininMonth1_ToCall</th>\n",
              "      <th>MostLovedCompetitornetworkininMonth1_Uxaa</th>\n",
              "      <th>MostLovedCompetitornetworkininMonth1_Weematel</th>\n",
              "      <th>MostLovedCompetitornetworkininMonth1_Zintel</th>\n",
              "      <th>MostLovedCompetitornetworkininMonth2_PQza</th>\n",
              "      <th>MostLovedCompetitornetworkininMonth2_ToCall</th>\n",
              "      <th>MostLovedCompetitornetworkininMonth2_Uxaa</th>\n",
              "      <th>MostLovedCompetitornetworkininMonth2_Weematel</th>\n",
              "      <th>MostLovedCompetitornetworkininMonth2_Zintel</th>\n",
              "    </tr>\n",
              "  </thead>\n",
              "  <tbody>\n",
              "    <tr>\n",
              "      <th>0</th>\n",
              "      <td>123.0</td>\n",
              "      <td>4.10</td>\n",
              "      <td>76.7140</td>\n",
              "      <td>0.00</td>\n",
              "      <td>1.25</td>\n",
              "      <td>1.4951</td>\n",
              "      <td>14.0</td>\n",
              "      <td>564.0</td>\n",
              "      <td>6408.0</td>\n",
              "      <td>2.0</td>\n",
              "      <td>0.0</td>\n",
              "      <td>0</td>\n",
              "      <td>0</td>\n",
              "      <td>0</td>\n",
              "      <td>0</td>\n",
              "      <td>0</td>\n",
              "      <td>1</td>\n",
              "      <td>0</td>\n",
              "      <td>0</td>\n",
              "      <td>0</td>\n",
              "      <td>0</td>\n",
              "      <td>0</td>\n",
              "      <td>0</td>\n",
              "      <td>0</td>\n",
              "    </tr>\n",
              "    <tr>\n",
              "      <th>1</th>\n",
              "      <td>1316.0</td>\n",
              "      <td>43.87</td>\n",
              "      <td>98.8904</td>\n",
              "      <td>4.14</td>\n",
              "      <td>1.25</td>\n",
              "      <td>1.0244</td>\n",
              "      <td>27.0</td>\n",
              "      <td>1626.0</td>\n",
              "      <td>4373.0</td>\n",
              "      <td>1.0</td>\n",
              "      <td>0.0</td>\n",
              "      <td>0</td>\n",
              "      <td>0</td>\n",
              "      <td>0</td>\n",
              "      <td>0</td>\n",
              "      <td>0</td>\n",
              "      <td>1</td>\n",
              "      <td>0</td>\n",
              "      <td>0</td>\n",
              "      <td>0</td>\n",
              "      <td>0</td>\n",
              "      <td>0</td>\n",
              "      <td>0</td>\n",
              "      <td>0</td>\n",
              "    </tr>\n",
              "    <tr>\n",
              "      <th>2</th>\n",
              "      <td>2385.0</td>\n",
              "      <td>79.50</td>\n",
              "      <td>372.6300</td>\n",
              "      <td>3.51</td>\n",
              "      <td>1.25</td>\n",
              "      <td>6.0898</td>\n",
              "      <td>119.0</td>\n",
              "      <td>10411.0</td>\n",
              "      <td>22039.0</td>\n",
              "      <td>1.0</td>\n",
              "      <td>0.0</td>\n",
              "      <td>0</td>\n",
              "      <td>0</td>\n",
              "      <td>0</td>\n",
              "      <td>0</td>\n",
              "      <td>0</td>\n",
              "      <td>0</td>\n",
              "      <td>1</td>\n",
              "      <td>0</td>\n",
              "      <td>0</td>\n",
              "      <td>0</td>\n",
              "      <td>0</td>\n",
              "      <td>0</td>\n",
              "      <td>0</td>\n",
              "    </tr>\n",
              "    <tr>\n",
              "      <th>3</th>\n",
              "      <td>1614.0</td>\n",
              "      <td>53.80</td>\n",
              "      <td>530.2000</td>\n",
              "      <td>6.85</td>\n",
              "      <td>1.25</td>\n",
              "      <td>3.3447</td>\n",
              "      <td>69.0</td>\n",
              "      <td>6822.0</td>\n",
              "      <td>6274.0</td>\n",
              "      <td>1.0</td>\n",
              "      <td>0.0</td>\n",
              "      <td>0</td>\n",
              "      <td>0</td>\n",
              "      <td>0</td>\n",
              "      <td>0</td>\n",
              "      <td>0</td>\n",
              "      <td>0</td>\n",
              "      <td>0</td>\n",
              "      <td>0</td>\n",
              "      <td>0</td>\n",
              "      <td>0</td>\n",
              "      <td>0</td>\n",
              "      <td>0</td>\n",
              "      <td>0</td>\n",
              "    </tr>\n",
              "    <tr>\n",
              "      <th>4</th>\n",
              "      <td>2175.0</td>\n",
              "      <td>72.50</td>\n",
              "      <td>554.1300</td>\n",
              "      <td>6.99</td>\n",
              "      <td>153.75</td>\n",
              "      <td>673204.0342</td>\n",
              "      <td>33.0</td>\n",
              "      <td>3387.0</td>\n",
              "      <td>7241.0</td>\n",
              "      <td>1.0</td>\n",
              "      <td>0.0</td>\n",
              "      <td>1</td>\n",
              "      <td>0</td>\n",
              "      <td>0</td>\n",
              "      <td>0</td>\n",
              "      <td>0</td>\n",
              "      <td>0</td>\n",
              "      <td>1</td>\n",
              "      <td>0</td>\n",
              "      <td>0</td>\n",
              "      <td>0</td>\n",
              "      <td>0</td>\n",
              "      <td>0</td>\n",
              "      <td>0</td>\n",
              "    </tr>\n",
              "  </tbody>\n",
              "</table>\n",
              "</div>"
            ],
            "text/plain": [
              "   network_age  Customertenureinmonth  TotalSpendinMonths1and2of2017  \\\n",
              "0        123.0                   4.10                        76.7140   \n",
              "1       1316.0                  43.87                        98.8904   \n",
              "2       2385.0                  79.50                       372.6300   \n",
              "3       1614.0                  53.80                       530.2000   \n",
              "4       2175.0                  72.50                       554.1300   \n",
              "\n",
              "   TotalSMSSpend  TotalDataSpend  TotalDataConsumption  TotalUniqueCalls  \\\n",
              "0           0.00            1.25                1.4951              14.0   \n",
              "1           4.14            1.25                1.0244              27.0   \n",
              "2           3.51            1.25                6.0898             119.0   \n",
              "3           6.85            1.25                3.3447              69.0   \n",
              "4           6.99          153.75           673204.0342              33.0   \n",
              "\n",
              "   TotalOnnetspend  TotalOffnetspend  TotalCallcentrecomplaintcalls  \\\n",
              "0            564.0            6408.0                            2.0   \n",
              "1           1626.0            4373.0                            1.0   \n",
              "2          10411.0           22039.0                            1.0   \n",
              "3           6822.0            6274.0                            1.0   \n",
              "4           3387.0            7241.0                            1.0   \n",
              "\n",
              "   ChurnStatus  NetworktypesubscriptioninMonth2_3G  \\\n",
              "0          0.0                                   0   \n",
              "1          0.0                                   0   \n",
              "2          0.0                                   0   \n",
              "3          0.0                                   0   \n",
              "4          0.0                                   1   \n",
              "\n",
              "   NetworktypesubscriptioninMonth2_Other  \\\n",
              "0                                      0   \n",
              "1                                      0   \n",
              "2                                      0   \n",
              "3                                      0   \n",
              "4                                      0   \n",
              "\n",
              "   MostLovedCompetitornetworkininMonth1_Mango  \\\n",
              "0                                           0   \n",
              "1                                           0   \n",
              "2                                           0   \n",
              "3                                           0   \n",
              "4                                           0   \n",
              "\n",
              "   MostLovedCompetitornetworkininMonth1_PQza  \\\n",
              "0                                          0   \n",
              "1                                          0   \n",
              "2                                          0   \n",
              "3                                          0   \n",
              "4                                          0   \n",
              "\n",
              "   MostLovedCompetitornetworkininMonth1_ToCall  \\\n",
              "0                                            0   \n",
              "1                                            0   \n",
              "2                                            0   \n",
              "3                                            0   \n",
              "4                                            0   \n",
              "\n",
              "   MostLovedCompetitornetworkininMonth1_Uxaa  \\\n",
              "0                                          1   \n",
              "1                                          1   \n",
              "2                                          0   \n",
              "3                                          0   \n",
              "4                                          0   \n",
              "\n",
              "   MostLovedCompetitornetworkininMonth1_Weematel  \\\n",
              "0                                              0   \n",
              "1                                              0   \n",
              "2                                              1   \n",
              "3                                              0   \n",
              "4                                              1   \n",
              "\n",
              "   MostLovedCompetitornetworkininMonth1_Zintel  \\\n",
              "0                                            0   \n",
              "1                                            0   \n",
              "2                                            0   \n",
              "3                                            0   \n",
              "4                                            0   \n",
              "\n",
              "   MostLovedCompetitornetworkininMonth2_PQza  \\\n",
              "0                                          0   \n",
              "1                                          0   \n",
              "2                                          0   \n",
              "3                                          0   \n",
              "4                                          0   \n",
              "\n",
              "   MostLovedCompetitornetworkininMonth2_ToCall  \\\n",
              "0                                            0   \n",
              "1                                            0   \n",
              "2                                            0   \n",
              "3                                            0   \n",
              "4                                            0   \n",
              "\n",
              "   MostLovedCompetitornetworkininMonth2_Uxaa  \\\n",
              "0                                          0   \n",
              "1                                          0   \n",
              "2                                          0   \n",
              "3                                          0   \n",
              "4                                          0   \n",
              "\n",
              "   MostLovedCompetitornetworkininMonth2_Weematel  \\\n",
              "0                                              0   \n",
              "1                                              0   \n",
              "2                                              0   \n",
              "3                                              0   \n",
              "4                                              0   \n",
              "\n",
              "   MostLovedCompetitornetworkininMonth2_Zintel  \n",
              "0                                            0  \n",
              "1                                            0  \n",
              "2                                            0  \n",
              "3                                            0  \n",
              "4                                            0  "
            ]
          },
          "metadata": {
            "tags": []
          },
          "execution_count": 14
        }
      ]
    },
    {
      "cell_type": "code",
      "metadata": {
        "id": "tfOx8NaIV1pb",
        "colab_type": "code",
        "colab": {
          "base_uri": "https://localhost:8080/",
          "height": 442
        },
        "outputId": "27c1196a-3ba4-4a2c-8659-c1c598dde468"
      },
      "source": [
        "cr = data2.corr()\n",
        "cr.ChurnStatus"
      ],
      "execution_count": 15,
      "outputs": [
        {
          "output_type": "execute_result",
          "data": {
            "text/plain": [
              "network_age                                     -0.123818\n",
              "Customertenureinmonth                           -0.123816\n",
              "TotalSpendinMonths1and2of2017                   -0.029808\n",
              "TotalSMSSpend                                    0.098836\n",
              "TotalDataSpend                                   0.036607\n",
              "TotalDataConsumption                            -0.142352\n",
              "TotalUniqueCalls                                -0.134596\n",
              "TotalOnnetspend                                 -0.005082\n",
              "TotalOffnetspend                                 0.103197\n",
              "TotalCallcentrecomplaintcalls                   -0.071902\n",
              "ChurnStatus                                      1.000000\n",
              "NetworktypesubscriptioninMonth2_3G              -0.067904\n",
              "NetworktypesubscriptioninMonth2_Other            0.059982\n",
              "MostLovedCompetitornetworkininMonth1_Mango       0.036161\n",
              "MostLovedCompetitornetworkininMonth1_PQza        0.119585\n",
              "MostLovedCompetitornetworkininMonth1_ToCall     -0.028765\n",
              "MostLovedCompetitornetworkininMonth1_Uxaa       -0.030892\n",
              "MostLovedCompetitornetworkininMonth1_Weematel   -0.036080\n",
              "MostLovedCompetitornetworkininMonth1_Zintel     -0.064563\n",
              "MostLovedCompetitornetworkininMonth2_PQza        0.216982\n",
              "MostLovedCompetitornetworkininMonth2_ToCall      0.081951\n",
              "MostLovedCompetitornetworkininMonth2_Uxaa       -0.316541\n",
              "MostLovedCompetitornetworkininMonth2_Weematel    0.079953\n",
              "MostLovedCompetitornetworkininMonth2_Zintel      0.047969\n",
              "Name: ChurnStatus, dtype: float64"
            ]
          },
          "metadata": {
            "tags": []
          },
          "execution_count": 15
        }
      ]
    },
    {
      "cell_type": "code",
      "metadata": {
        "id": "ni3WY6PQV1pv",
        "colab_type": "code",
        "colab": {}
      },
      "source": [
        "#Data Partition\n",
        "\n",
        "X = data2.drop('ChurnStatus', axis =1)\n",
        "y = data2['ChurnStatus']"
      ],
      "execution_count": 16,
      "outputs": []
    },
    {
      "cell_type": "code",
      "metadata": {
        "id": "dnr0dFLoV1qF",
        "colab_type": "code",
        "colab": {}
      },
      "source": [
        "#Data SPlitting\n",
        "from sklearn.model_selection import train_test_split\n",
        "X_train,X_test,y_train,y_test = train_test_split(X,y,test_size=0.2,random_state=1)"
      ],
      "execution_count": 17,
      "outputs": []
    },
    {
      "cell_type": "code",
      "metadata": {
        "id": "VyZdM-inV1qY",
        "colab_type": "code",
        "colab": {}
      },
      "source": [
        "#Feature Scaling\n",
        "from sklearn.preprocessing import MinMaxScaler\n",
        "mm=MinMaxScaler()\n",
        "X_train_scale =mm.fit_transform(X_train)\n",
        "X_test_scale =mm.transform(X_test)"
      ],
      "execution_count": 18,
      "outputs": []
    },
    {
      "cell_type": "code",
      "metadata": {
        "id": "NJVyLz-aV1q0",
        "colab_type": "code",
        "colab": {
          "base_uri": "https://localhost:8080/",
          "height": 34
        },
        "outputId": "a8fedc5c-36b8-4cff-c547-89894ba39e1d"
      },
      "source": [
        "X_train_scale.shape ,X_test_scale.shape"
      ],
      "execution_count": 19,
      "outputs": [
        {
          "output_type": "execute_result",
          "data": {
            "text/plain": [
              "((1119, 23), (280, 23))"
            ]
          },
          "metadata": {
            "tags": []
          },
          "execution_count": 19
        }
      ]
    },
    {
      "cell_type": "markdown",
      "metadata": {
        "id": "kH4pjv48V1rG",
        "colab_type": "text"
      },
      "source": [
        "# Model Training\n"
      ]
    },
    {
      "cell_type": "markdown",
      "metadata": {
        "id": "EaDJ9sSwV1rN",
        "colab_type": "text"
      },
      "source": [
        "The first thing we have to do is to set up the architecture. Let’s first think about what kind of neural network architecture we want. Suppose we want this neural network:"
      ]
    },
    {
      "cell_type": "markdown",
      "metadata": {
        "id": "GQYJuDePV1rP",
        "colab_type": "text"
      },
      "source": [
        "![1_n-SIfloaWQxvQ5XMgnKmRA.png](attachment:1_n-SIfloaWQxvQ5XMgnKmRA.png)"
      ]
    },
    {
      "cell_type": "markdown",
      "metadata": {
        "id": "7JpQ7f57V1rS",
        "colab_type": "text"
      },
      "source": [
        "In words, we want to have these layers:\n",
        "\n",
        "Hidden layer 1: 32 neurons, ReLU activation\n",
        "Hidden layer 2: 32 neurons, ReLU activation\n",
        "Output Layer: 1 neuron, Sigmoid activation"
      ]
    },
    {
      "cell_type": "markdown",
      "metadata": {
        "id": "qBS_FZR8V1rX",
        "colab_type": "text"
      },
      "source": [
        "Now, we need to describe this architecture to Keras. We will be using the Sequential model, which means that we merely need to describe the layers above in sequence.\n",
        "\n",
        "First, let’s import the necessary code from Keras:"
      ]
    },
    {
      "cell_type": "markdown",
      "metadata": {
        "id": "-EruNVw4V1rb",
        "colab_type": "text"
      },
      "source": [
        "And just like that, the code snippet above has defined our architecture! The code above can be interpreted like this:\n",
        "\n",
        "model = Sequential([ ... ])\n",
        "\n",
        "\n",
        "This says that we will store our model in the variable ‘model’, and we’ll describe it sequentially (layer by layer) in between the square brackets.\n",
        "\n",
        "\n",
        "Dense(32, activation='relu', input_shape=(23,)),\n",
        "\n",
        "\n",
        "We have our first layer as a dense layer with 32 neurons, ReLU activation and the input shape is 23 since we have 23 input features. Note that ‘Dense’ refers to a fully-connected layer, which is what we will be using.\n",
        "\n",
        "\n",
        "Dense(32, activation='relu'),\n",
        "\n",
        "\n",
        "Our second layer is also a dense layer with 32 neurons, ReLU activation. Note that we do not have to describe the input shape since Keras can infer from the output of our first layer.\n",
        "\n",
        "\n",
        "Dense(1, activation='sigmoid'),\n",
        "\n",
        "\n",
        "Our third layer is a dense layer with 1 neuron, sigmoid activation.\n",
        "\n",
        "\n",
        "And just like that, we have written our model architecture (template) in code!\n",
        "\n",
        "\n",
        "Second Step: Filling in the best numbers\n",
        "\n",
        "\n",
        "Now that we’ve got our architecture specified, we need to find the best numbers for it. Before we start our training, we have to configure the model by\n",
        "\n",
        "\n",
        "Telling it which algorithm you want to use to do the optimization\n",
        "\n",
        "Telling it what loss function to use\n",
        "\n",
        "Telling it what other metrics you want to track apart from the loss function\n",
        "\n",
        "Configuring the model with these settings requires us to call the function model.compile, like this:"
      ]
    },
    {
      "cell_type": "code",
      "metadata": {
        "id": "Ydf-HkAnV1rf",
        "colab_type": "code",
        "colab": {
          "base_uri": "https://localhost:8080/",
          "height": 1000
        },
        "outputId": "60350cfc-41b7-45d1-df73-3552de471e6b"
      },
      "source": [
        "from keras.models import Sequential\n",
        "from keras.layers import Dense\n",
        "\n",
        "model = Sequential([\n",
        "    Dense(23, activation='relu', input_shape=(23,)),\n",
        "    Dense(8, activation='relu'),\n",
        "    Dense(1, activation='sigmoid'),\n",
        "])\n",
        "\n",
        "\n",
        "\n",
        "\n",
        "model.compile(optimizer='adam',\n",
        "              loss='binary_crossentropy',\n",
        "              metrics=['accuracy'])\n",
        "\n",
        "hist = model.fit(X_train_scale, y_train,\n",
        "          batch_size=32, epochs=100,\n",
        "          validation_data=(X_test_scale, y_test))"
      ],
      "execution_count": 20,
      "outputs": [
        {
          "output_type": "stream",
          "text": [
            "Using TensorFlow backend.\n"
          ],
          "name": "stderr"
        },
        {
          "output_type": "stream",
          "text": [
            "Train on 1119 samples, validate on 280 samples\n",
            "Epoch 1/100\n",
            "1119/1119 [==============================] - 2s 2ms/step - loss: 0.6918 - accuracy: 0.5040 - val_loss: 0.6792 - val_accuracy: 0.5286\n",
            "Epoch 2/100\n",
            "1119/1119 [==============================] - 0s 131us/step - loss: 0.6696 - accuracy: 0.5907 - val_loss: 0.6676 - val_accuracy: 0.5929\n",
            "Epoch 3/100\n",
            "1119/1119 [==============================] - 0s 138us/step - loss: 0.6563 - accuracy: 0.6390 - val_loss: 0.6569 - val_accuracy: 0.6357\n",
            "Epoch 4/100\n",
            "1119/1119 [==============================] - 0s 134us/step - loss: 0.6462 - accuracy: 0.6631 - val_loss: 0.6505 - val_accuracy: 0.6429\n",
            "Epoch 5/100\n",
            "1119/1119 [==============================] - 0s 129us/step - loss: 0.6384 - accuracy: 0.6649 - val_loss: 0.6433 - val_accuracy: 0.6286\n",
            "Epoch 6/100\n",
            "1119/1119 [==============================] - 0s 132us/step - loss: 0.6332 - accuracy: 0.6676 - val_loss: 0.6382 - val_accuracy: 0.6286\n",
            "Epoch 7/100\n",
            "1119/1119 [==============================] - 0s 129us/step - loss: 0.6290 - accuracy: 0.6658 - val_loss: 0.6396 - val_accuracy: 0.6321\n",
            "Epoch 8/100\n",
            "1119/1119 [==============================] - 0s 133us/step - loss: 0.6258 - accuracy: 0.6693 - val_loss: 0.6363 - val_accuracy: 0.6357\n",
            "Epoch 9/100\n",
            "1119/1119 [==============================] - 0s 138us/step - loss: 0.6233 - accuracy: 0.6667 - val_loss: 0.6325 - val_accuracy: 0.6357\n",
            "Epoch 10/100\n",
            "1119/1119 [==============================] - 0s 128us/step - loss: 0.6198 - accuracy: 0.6685 - val_loss: 0.6361 - val_accuracy: 0.6357\n",
            "Epoch 11/100\n",
            "1119/1119 [==============================] - 0s 128us/step - loss: 0.6166 - accuracy: 0.6693 - val_loss: 0.6285 - val_accuracy: 0.6357\n",
            "Epoch 12/100\n",
            "1119/1119 [==============================] - 0s 127us/step - loss: 0.6145 - accuracy: 0.6711 - val_loss: 0.6297 - val_accuracy: 0.6357\n",
            "Epoch 13/100\n",
            "1119/1119 [==============================] - 0s 128us/step - loss: 0.6123 - accuracy: 0.6720 - val_loss: 0.6282 - val_accuracy: 0.6321\n",
            "Epoch 14/100\n",
            "1119/1119 [==============================] - 0s 134us/step - loss: 0.6108 - accuracy: 0.6720 - val_loss: 0.6271 - val_accuracy: 0.6357\n",
            "Epoch 15/100\n",
            "1119/1119 [==============================] - 0s 149us/step - loss: 0.6077 - accuracy: 0.6720 - val_loss: 0.6298 - val_accuracy: 0.6357\n",
            "Epoch 16/100\n",
            "1119/1119 [==============================] - 0s 135us/step - loss: 0.6059 - accuracy: 0.6720 - val_loss: 0.6257 - val_accuracy: 0.6321\n",
            "Epoch 17/100\n",
            "1119/1119 [==============================] - 0s 128us/step - loss: 0.6031 - accuracy: 0.6765 - val_loss: 0.6298 - val_accuracy: 0.6393\n",
            "Epoch 18/100\n",
            "1119/1119 [==============================] - 0s 128us/step - loss: 0.6012 - accuracy: 0.6783 - val_loss: 0.6250 - val_accuracy: 0.6357\n",
            "Epoch 19/100\n",
            "1119/1119 [==============================] - 0s 126us/step - loss: 0.6000 - accuracy: 0.6783 - val_loss: 0.6258 - val_accuracy: 0.6357\n",
            "Epoch 20/100\n",
            "1119/1119 [==============================] - 0s 126us/step - loss: 0.5975 - accuracy: 0.6810 - val_loss: 0.6228 - val_accuracy: 0.6464\n",
            "Epoch 21/100\n",
            "1119/1119 [==============================] - 0s 137us/step - loss: 0.5967 - accuracy: 0.6872 - val_loss: 0.6246 - val_accuracy: 0.6393\n",
            "Epoch 22/100\n",
            "1119/1119 [==============================] - 0s 132us/step - loss: 0.5940 - accuracy: 0.6801 - val_loss: 0.6247 - val_accuracy: 0.6429\n",
            "Epoch 23/100\n",
            "1119/1119 [==============================] - 0s 136us/step - loss: 0.5923 - accuracy: 0.6872 - val_loss: 0.6253 - val_accuracy: 0.6429\n",
            "Epoch 24/100\n",
            "1119/1119 [==============================] - 0s 127us/step - loss: 0.5912 - accuracy: 0.6872 - val_loss: 0.6230 - val_accuracy: 0.6464\n",
            "Epoch 25/100\n",
            "1119/1119 [==============================] - 0s 127us/step - loss: 0.5897 - accuracy: 0.6917 - val_loss: 0.6265 - val_accuracy: 0.6429\n",
            "Epoch 26/100\n",
            "1119/1119 [==============================] - 0s 127us/step - loss: 0.5894 - accuracy: 0.6881 - val_loss: 0.6215 - val_accuracy: 0.6429\n",
            "Epoch 27/100\n",
            "1119/1119 [==============================] - 0s 131us/step - loss: 0.5880 - accuracy: 0.6917 - val_loss: 0.6237 - val_accuracy: 0.6429\n",
            "Epoch 28/100\n",
            "1119/1119 [==============================] - 0s 134us/step - loss: 0.5854 - accuracy: 0.6908 - val_loss: 0.6232 - val_accuracy: 0.6464\n",
            "Epoch 29/100\n",
            "1119/1119 [==============================] - 0s 125us/step - loss: 0.5853 - accuracy: 0.6944 - val_loss: 0.6224 - val_accuracy: 0.6464\n",
            "Epoch 30/100\n",
            "1119/1119 [==============================] - 0s 140us/step - loss: 0.5819 - accuracy: 0.6926 - val_loss: 0.6228 - val_accuracy: 0.6393\n",
            "Epoch 31/100\n",
            "1119/1119 [==============================] - 0s 141us/step - loss: 0.5807 - accuracy: 0.6997 - val_loss: 0.6224 - val_accuracy: 0.6464\n",
            "Epoch 32/100\n",
            "1119/1119 [==============================] - 0s 123us/step - loss: 0.5802 - accuracy: 0.6944 - val_loss: 0.6219 - val_accuracy: 0.6500\n",
            "Epoch 33/100\n",
            "1119/1119 [==============================] - 0s 129us/step - loss: 0.5780 - accuracy: 0.7006 - val_loss: 0.6201 - val_accuracy: 0.6500\n",
            "Epoch 34/100\n",
            "1119/1119 [==============================] - 0s 124us/step - loss: 0.5771 - accuracy: 0.6944 - val_loss: 0.6265 - val_accuracy: 0.6607\n",
            "Epoch 35/100\n",
            "1119/1119 [==============================] - 0s 136us/step - loss: 0.5758 - accuracy: 0.6988 - val_loss: 0.6221 - val_accuracy: 0.6429\n",
            "Epoch 36/100\n",
            "1119/1119 [==============================] - 0s 128us/step - loss: 0.5741 - accuracy: 0.6962 - val_loss: 0.6233 - val_accuracy: 0.6500\n",
            "Epoch 37/100\n",
            "1119/1119 [==============================] - 0s 135us/step - loss: 0.5732 - accuracy: 0.7006 - val_loss: 0.6258 - val_accuracy: 0.6571\n",
            "Epoch 38/100\n",
            "1119/1119 [==============================] - 0s 128us/step - loss: 0.5718 - accuracy: 0.6953 - val_loss: 0.6201 - val_accuracy: 0.6464\n",
            "Epoch 39/100\n",
            "1119/1119 [==============================] - 0s 129us/step - loss: 0.5703 - accuracy: 0.7033 - val_loss: 0.6235 - val_accuracy: 0.6536\n",
            "Epoch 40/100\n",
            "1119/1119 [==============================] - 0s 132us/step - loss: 0.5693 - accuracy: 0.7024 - val_loss: 0.6210 - val_accuracy: 0.6429\n",
            "Epoch 41/100\n",
            "1119/1119 [==============================] - 0s 130us/step - loss: 0.5680 - accuracy: 0.6962 - val_loss: 0.6215 - val_accuracy: 0.6429\n",
            "Epoch 42/100\n",
            "1119/1119 [==============================] - 0s 129us/step - loss: 0.5668 - accuracy: 0.7069 - val_loss: 0.6181 - val_accuracy: 0.6536\n",
            "Epoch 43/100\n",
            "1119/1119 [==============================] - 0s 133us/step - loss: 0.5656 - accuracy: 0.7024 - val_loss: 0.6209 - val_accuracy: 0.6500\n",
            "Epoch 44/100\n",
            "1119/1119 [==============================] - 0s 125us/step - loss: 0.5645 - accuracy: 0.7024 - val_loss: 0.6188 - val_accuracy: 0.6536\n",
            "Epoch 45/100\n",
            "1119/1119 [==============================] - 0s 128us/step - loss: 0.5642 - accuracy: 0.7105 - val_loss: 0.6178 - val_accuracy: 0.6536\n",
            "Epoch 46/100\n",
            "1119/1119 [==============================] - 0s 139us/step - loss: 0.5636 - accuracy: 0.7096 - val_loss: 0.6250 - val_accuracy: 0.6571\n",
            "Epoch 47/100\n",
            "1119/1119 [==============================] - 0s 128us/step - loss: 0.5601 - accuracy: 0.7087 - val_loss: 0.6207 - val_accuracy: 0.6571\n",
            "Epoch 48/100\n",
            "1119/1119 [==============================] - 0s 133us/step - loss: 0.5594 - accuracy: 0.7096 - val_loss: 0.6209 - val_accuracy: 0.6536\n",
            "Epoch 49/100\n",
            "1119/1119 [==============================] - 0s 128us/step - loss: 0.5579 - accuracy: 0.7096 - val_loss: 0.6192 - val_accuracy: 0.6571\n",
            "Epoch 50/100\n",
            "1119/1119 [==============================] - 0s 141us/step - loss: 0.5577 - accuracy: 0.7105 - val_loss: 0.6203 - val_accuracy: 0.6429\n",
            "Epoch 51/100\n",
            "1119/1119 [==============================] - 0s 129us/step - loss: 0.5565 - accuracy: 0.7140 - val_loss: 0.6234 - val_accuracy: 0.6571\n",
            "Epoch 52/100\n",
            "1119/1119 [==============================] - 0s 127us/step - loss: 0.5578 - accuracy: 0.7113 - val_loss: 0.6222 - val_accuracy: 0.6571\n",
            "Epoch 53/100\n",
            "1119/1119 [==============================] - 0s 127us/step - loss: 0.5530 - accuracy: 0.7060 - val_loss: 0.6234 - val_accuracy: 0.6536\n",
            "Epoch 54/100\n",
            "1119/1119 [==============================] - 0s 138us/step - loss: 0.5523 - accuracy: 0.7149 - val_loss: 0.6209 - val_accuracy: 0.6571\n",
            "Epoch 55/100\n",
            "1119/1119 [==============================] - 0s 138us/step - loss: 0.5512 - accuracy: 0.7078 - val_loss: 0.6199 - val_accuracy: 0.6500\n",
            "Epoch 56/100\n",
            "1119/1119 [==============================] - 0s 120us/step - loss: 0.5502 - accuracy: 0.7096 - val_loss: 0.6220 - val_accuracy: 0.6607\n",
            "Epoch 57/100\n",
            "1119/1119 [==============================] - 0s 127us/step - loss: 0.5493 - accuracy: 0.7158 - val_loss: 0.6235 - val_accuracy: 0.6643\n",
            "Epoch 58/100\n",
            "1119/1119 [==============================] - 0s 122us/step - loss: 0.5470 - accuracy: 0.7176 - val_loss: 0.6235 - val_accuracy: 0.6607\n",
            "Epoch 59/100\n",
            "1119/1119 [==============================] - 0s 123us/step - loss: 0.5467 - accuracy: 0.7149 - val_loss: 0.6245 - val_accuracy: 0.6643\n",
            "Epoch 60/100\n",
            "1119/1119 [==============================] - 0s 130us/step - loss: 0.5451 - accuracy: 0.7140 - val_loss: 0.6226 - val_accuracy: 0.6571\n",
            "Epoch 61/100\n",
            "1119/1119 [==============================] - 0s 125us/step - loss: 0.5442 - accuracy: 0.7194 - val_loss: 0.6224 - val_accuracy: 0.6607\n",
            "Epoch 62/100\n",
            "1119/1119 [==============================] - 0s 133us/step - loss: 0.5434 - accuracy: 0.7158 - val_loss: 0.6230 - val_accuracy: 0.6714\n",
            "Epoch 63/100\n",
            "1119/1119 [==============================] - 0s 130us/step - loss: 0.5426 - accuracy: 0.7131 - val_loss: 0.6217 - val_accuracy: 0.6571\n",
            "Epoch 64/100\n",
            "1119/1119 [==============================] - 0s 136us/step - loss: 0.5413 - accuracy: 0.7140 - val_loss: 0.6244 - val_accuracy: 0.6643\n",
            "Epoch 65/100\n",
            "1119/1119 [==============================] - 0s 127us/step - loss: 0.5404 - accuracy: 0.7212 - val_loss: 0.6221 - val_accuracy: 0.6536\n",
            "Epoch 66/100\n",
            "1119/1119 [==============================] - 0s 128us/step - loss: 0.5381 - accuracy: 0.7239 - val_loss: 0.6347 - val_accuracy: 0.6643\n",
            "Epoch 67/100\n",
            "1119/1119 [==============================] - 0s 132us/step - loss: 0.5389 - accuracy: 0.7176 - val_loss: 0.6219 - val_accuracy: 0.6500\n",
            "Epoch 68/100\n",
            "1119/1119 [==============================] - 0s 125us/step - loss: 0.5382 - accuracy: 0.7239 - val_loss: 0.6257 - val_accuracy: 0.6536\n",
            "Epoch 69/100\n",
            "1119/1119 [==============================] - 0s 133us/step - loss: 0.5372 - accuracy: 0.7292 - val_loss: 0.6259 - val_accuracy: 0.6679\n",
            "Epoch 70/100\n",
            "1119/1119 [==============================] - 0s 126us/step - loss: 0.5365 - accuracy: 0.7167 - val_loss: 0.6299 - val_accuracy: 0.6571\n",
            "Epoch 71/100\n",
            "1119/1119 [==============================] - 0s 132us/step - loss: 0.5326 - accuracy: 0.7274 - val_loss: 0.6245 - val_accuracy: 0.6643\n",
            "Epoch 72/100\n",
            "1119/1119 [==============================] - 0s 120us/step - loss: 0.5324 - accuracy: 0.7265 - val_loss: 0.6218 - val_accuracy: 0.6536\n",
            "Epoch 73/100\n",
            "1119/1119 [==============================] - 0s 131us/step - loss: 0.5326 - accuracy: 0.7274 - val_loss: 0.6229 - val_accuracy: 0.6500\n",
            "Epoch 74/100\n",
            "1119/1119 [==============================] - 0s 129us/step - loss: 0.5304 - accuracy: 0.7283 - val_loss: 0.6246 - val_accuracy: 0.6643\n",
            "Epoch 75/100\n",
            "1119/1119 [==============================] - 0s 129us/step - loss: 0.5281 - accuracy: 0.7301 - val_loss: 0.6236 - val_accuracy: 0.6500\n",
            "Epoch 76/100\n",
            "1119/1119 [==============================] - 0s 135us/step - loss: 0.5293 - accuracy: 0.7274 - val_loss: 0.6296 - val_accuracy: 0.6607\n",
            "Epoch 77/100\n",
            "1119/1119 [==============================] - 0s 127us/step - loss: 0.5295 - accuracy: 0.7301 - val_loss: 0.6230 - val_accuracy: 0.6571\n",
            "Epoch 78/100\n",
            "1119/1119 [==============================] - 0s 131us/step - loss: 0.5268 - accuracy: 0.7301 - val_loss: 0.6245 - val_accuracy: 0.6536\n",
            "Epoch 79/100\n",
            "1119/1119 [==============================] - 0s 128us/step - loss: 0.5257 - accuracy: 0.7310 - val_loss: 0.6327 - val_accuracy: 0.6536\n",
            "Epoch 80/100\n",
            "1119/1119 [==============================] - 0s 134us/step - loss: 0.5253 - accuracy: 0.7364 - val_loss: 0.6229 - val_accuracy: 0.6536\n",
            "Epoch 81/100\n",
            "1119/1119 [==============================] - 0s 128us/step - loss: 0.5245 - accuracy: 0.7319 - val_loss: 0.6245 - val_accuracy: 0.6571\n",
            "Epoch 82/100\n",
            "1119/1119 [==============================] - 0s 134us/step - loss: 0.5245 - accuracy: 0.7337 - val_loss: 0.6263 - val_accuracy: 0.6536\n",
            "Epoch 83/100\n",
            "1119/1119 [==============================] - 0s 138us/step - loss: 0.5229 - accuracy: 0.7328 - val_loss: 0.6261 - val_accuracy: 0.6607\n",
            "Epoch 84/100\n",
            "1119/1119 [==============================] - 0s 135us/step - loss: 0.5219 - accuracy: 0.7391 - val_loss: 0.6269 - val_accuracy: 0.6571\n",
            "Epoch 85/100\n",
            "1119/1119 [==============================] - 0s 134us/step - loss: 0.5191 - accuracy: 0.7283 - val_loss: 0.6292 - val_accuracy: 0.6536\n",
            "Epoch 86/100\n",
            "1119/1119 [==============================] - 0s 129us/step - loss: 0.5192 - accuracy: 0.7382 - val_loss: 0.6263 - val_accuracy: 0.6607\n",
            "Epoch 87/100\n",
            "1119/1119 [==============================] - 0s 135us/step - loss: 0.5182 - accuracy: 0.7346 - val_loss: 0.6276 - val_accuracy: 0.6536\n",
            "Epoch 88/100\n",
            "1119/1119 [==============================] - 0s 127us/step - loss: 0.5176 - accuracy: 0.7364 - val_loss: 0.6259 - val_accuracy: 0.6571\n",
            "Epoch 89/100\n",
            "1119/1119 [==============================] - 0s 135us/step - loss: 0.5159 - accuracy: 0.7346 - val_loss: 0.6333 - val_accuracy: 0.6464\n",
            "Epoch 90/100\n",
            "1119/1119 [==============================] - 0s 126us/step - loss: 0.5152 - accuracy: 0.7355 - val_loss: 0.6290 - val_accuracy: 0.6607\n",
            "Epoch 91/100\n",
            "1119/1119 [==============================] - 0s 139us/step - loss: 0.5151 - accuracy: 0.7417 - val_loss: 0.6293 - val_accuracy: 0.6679\n",
            "Epoch 92/100\n",
            "1119/1119 [==============================] - 0s 134us/step - loss: 0.5127 - accuracy: 0.7382 - val_loss: 0.6336 - val_accuracy: 0.6500\n",
            "Epoch 93/100\n",
            "1119/1119 [==============================] - 0s 127us/step - loss: 0.5183 - accuracy: 0.7337 - val_loss: 0.6382 - val_accuracy: 0.6607\n",
            "Epoch 94/100\n",
            "1119/1119 [==============================] - 0s 129us/step - loss: 0.5130 - accuracy: 0.7382 - val_loss: 0.6286 - val_accuracy: 0.6643\n",
            "Epoch 95/100\n",
            "1119/1119 [==============================] - 0s 126us/step - loss: 0.5133 - accuracy: 0.7355 - val_loss: 0.6276 - val_accuracy: 0.6643\n",
            "Epoch 96/100\n",
            "1119/1119 [==============================] - 0s 137us/step - loss: 0.5105 - accuracy: 0.7408 - val_loss: 0.6282 - val_accuracy: 0.6607\n",
            "Epoch 97/100\n",
            "1119/1119 [==============================] - 0s 135us/step - loss: 0.5105 - accuracy: 0.7373 - val_loss: 0.6286 - val_accuracy: 0.6571\n",
            "Epoch 98/100\n",
            "1119/1119 [==============================] - 0s 135us/step - loss: 0.5094 - accuracy: 0.7346 - val_loss: 0.6294 - val_accuracy: 0.6500\n",
            "Epoch 99/100\n",
            "1119/1119 [==============================] - 0s 131us/step - loss: 0.5074 - accuracy: 0.7453 - val_loss: 0.6321 - val_accuracy: 0.6500\n",
            "Epoch 100/100\n",
            "1119/1119 [==============================] - 0s 127us/step - loss: 0.5081 - accuracy: 0.7426 - val_loss: 0.6383 - val_accuracy: 0.6607\n"
          ],
          "name": "stdout"
        }
      ]
    },
    {
      "cell_type": "code",
      "metadata": {
        "id": "Ft7EmmXWV1r2",
        "colab_type": "code",
        "colab": {
          "base_uri": "https://localhost:8080/",
          "height": 295
        },
        "outputId": "328bd36a-245f-4f6e-ac5c-c1d4d003c605"
      },
      "source": [
        "plt.plot(hist.history['loss'])\n",
        "plt.plot(hist.history['val_loss'])\n",
        "plt.title('Model loss')\n",
        "plt.ylabel('Loss')\n",
        "plt.xlabel('Epoch')\n",
        "plt.legend(['Train', 'Val'], loc='upper right')\n",
        "plt.show()"
      ],
      "execution_count": 21,
      "outputs": [
        {
          "output_type": "display_data",
          "data": {
            "image/png": "[encoded data removed]",
            "text/plain": [
              "<Figure size 432x288 with 1 Axes>"
            ]
          },
          "metadata": {
            "tags": [],
            "needs_background": "light"
          }
        }
      ]
    },
    {
      "cell_type": "markdown",
      "metadata": {
        "id": "kPl6Bq0pV1sN",
        "colab_type": "text"
      },
      "source": [
        "There is large variation for train data loss and validation data loss.So lets try by   decreasing learning rate"
      ]
    },
    {
      "cell_type": "code",
      "metadata": {
        "scrolled": false,
        "id": "l6W8Op6AV1sR",
        "colab_type": "code",
        "colab": {
          "base_uri": "https://localhost:8080/",
          "height": 1000
        },
        "outputId": "48929689-6750-4478-e85e-ab2d6a22e91c"
      },
      "source": [
        "from keras.models import Sequential\n",
        "from keras.layers import Dense\n",
        "from keras.optimizers import adam, SGD\n",
        "ad = adam(lr=0.0001)\n",
        "\n",
        "model3 = Sequential([\n",
        "    Dense(10, activation='relu', input_shape=(23,)),\n",
        "    #Dense(10, activation='relu'),\n",
        "    Dense(1, activation='sigmoid'),\n",
        "])\n",
        "\n",
        "\n",
        "\n",
        "\n",
        "model3.compile(optimizer=ad,\n",
        "              loss='binary_crossentropy',\n",
        "              metrics=['accuracy'])\n",
        "\n",
        "hist3 = model3.fit(X_train_scale, y_train,\n",
        "          batch_size=20, epochs=50,\n",
        "          validation_data=(X_test_scale, y_test))\n",
        "\n",
        "plt.plot(hist3.history['loss'])\n",
        "plt.plot(hist3.history['val_loss'])\n",
        "plt.title('Model loss')\n",
        "plt.ylabel('Loss')\n",
        "plt.xlabel('Epoch')\n",
        "plt.legend(['Train', 'Val'], loc='upper right')\n",
        "plt.show()"
      ],
      "execution_count": 22,
      "outputs": [
        {
          "output_type": "stream",
          "text": [
            "Train on 1119 samples, validate on 280 samples\n",
            "Epoch 1/50\n",
            "1119/1119 [==============================] - 0s 284us/step - loss: 0.7003 - accuracy: 0.5362 - val_loss: 0.6893 - val_accuracy: 0.5821\n",
            "Epoch 2/50\n",
            "1119/1119 [==============================] - 0s 192us/step - loss: 0.6979 - accuracy: 0.5407 - val_loss: 0.6878 - val_accuracy: 0.5821\n",
            "Epoch 3/50\n",
            "1119/1119 [==============================] - 0s 189us/step - loss: 0.6957 - accuracy: 0.5478 - val_loss: 0.6865 - val_accuracy: 0.5750\n",
            "Epoch 4/50\n",
            "1119/1119 [==============================] - 0s 197us/step - loss: 0.6938 - accuracy: 0.5505 - val_loss: 0.6853 - val_accuracy: 0.5786\n",
            "Epoch 5/50\n",
            "1119/1119 [==============================] - 0s 191us/step - loss: 0.6920 - accuracy: 0.5559 - val_loss: 0.6842 - val_accuracy: 0.5714\n",
            "Epoch 6/50\n",
            "1119/1119 [==============================] - 0s 184us/step - loss: 0.6903 - accuracy: 0.5594 - val_loss: 0.6833 - val_accuracy: 0.5679\n",
            "Epoch 7/50\n",
            "1119/1119 [==============================] - 0s 190us/step - loss: 0.6888 - accuracy: 0.5630 - val_loss: 0.6823 - val_accuracy: 0.5857\n",
            "Epoch 8/50\n",
            "1119/1119 [==============================] - 0s 184us/step - loss: 0.6873 - accuracy: 0.5666 - val_loss: 0.6815 - val_accuracy: 0.5964\n",
            "Epoch 9/50\n",
            "1119/1119 [==============================] - 0s 200us/step - loss: 0.6860 - accuracy: 0.5630 - val_loss: 0.6807 - val_accuracy: 0.5929\n",
            "Epoch 10/50\n",
            "1119/1119 [==============================] - 0s 185us/step - loss: 0.6848 - accuracy: 0.5630 - val_loss: 0.6799 - val_accuracy: 0.5929\n",
            "Epoch 11/50\n",
            "1119/1119 [==============================] - 0s 189us/step - loss: 0.6836 - accuracy: 0.5639 - val_loss: 0.6793 - val_accuracy: 0.5929\n",
            "Epoch 12/50\n",
            "1119/1119 [==============================] - 0s 193us/step - loss: 0.6824 - accuracy: 0.5630 - val_loss: 0.6786 - val_accuracy: 0.5964\n",
            "Epoch 13/50\n",
            "1119/1119 [==============================] - 0s 199us/step - loss: 0.6814 - accuracy: 0.5737 - val_loss: 0.6779 - val_accuracy: 0.6000\n",
            "Epoch 14/50\n",
            "1119/1119 [==============================] - 0s 203us/step - loss: 0.6803 - accuracy: 0.5764 - val_loss: 0.6773 - val_accuracy: 0.6000\n",
            "Epoch 15/50\n",
            "1119/1119 [==============================] - 0s 185us/step - loss: 0.6794 - accuracy: 0.5818 - val_loss: 0.6766 - val_accuracy: 0.6000\n",
            "Epoch 16/50\n",
            "1119/1119 [==============================] - 0s 191us/step - loss: 0.6785 - accuracy: 0.5809 - val_loss: 0.6759 - val_accuracy: 0.5964\n",
            "Epoch 17/50\n",
            "1119/1119 [==============================] - 0s 183us/step - loss: 0.6776 - accuracy: 0.5836 - val_loss: 0.6754 - val_accuracy: 0.5964\n",
            "Epoch 18/50\n",
            "1119/1119 [==============================] - 0s 196us/step - loss: 0.6768 - accuracy: 0.5818 - val_loss: 0.6748 - val_accuracy: 0.5964\n",
            "Epoch 19/50\n",
            "1119/1119 [==============================] - 0s 202us/step - loss: 0.6759 - accuracy: 0.5827 - val_loss: 0.6742 - val_accuracy: 0.5929\n",
            "Epoch 20/50\n",
            "1119/1119 [==============================] - 0s 182us/step - loss: 0.6751 - accuracy: 0.5836 - val_loss: 0.6736 - val_accuracy: 0.5893\n",
            "Epoch 21/50\n",
            "1119/1119 [==============================] - 0s 191us/step - loss: 0.6743 - accuracy: 0.5880 - val_loss: 0.6731 - val_accuracy: 0.5929\n",
            "Epoch 22/50\n",
            "1119/1119 [==============================] - 0s 185us/step - loss: 0.6735 - accuracy: 0.5871 - val_loss: 0.6724 - val_accuracy: 0.5929\n",
            "Epoch 23/50\n",
            "1119/1119 [==============================] - 0s 193us/step - loss: 0.6728 - accuracy: 0.5889 - val_loss: 0.6719 - val_accuracy: 0.5929\n",
            "Epoch 24/50\n",
            "1119/1119 [==============================] - 0s 182us/step - loss: 0.6721 - accuracy: 0.5907 - val_loss: 0.6713 - val_accuracy: 0.5964\n",
            "Epoch 25/50\n",
            "1119/1119 [==============================] - 0s 187us/step - loss: 0.6713 - accuracy: 0.5916 - val_loss: 0.6707 - val_accuracy: 0.5964\n",
            "Epoch 26/50\n",
            "1119/1119 [==============================] - 0s 192us/step - loss: 0.6706 - accuracy: 0.5943 - val_loss: 0.6702 - val_accuracy: 0.6000\n",
            "Epoch 27/50\n",
            "1119/1119 [==============================] - 0s 187us/step - loss: 0.6699 - accuracy: 0.5934 - val_loss: 0.6696 - val_accuracy: 0.6000\n",
            "Epoch 28/50\n",
            "1119/1119 [==============================] - 0s 189us/step - loss: 0.6692 - accuracy: 0.5934 - val_loss: 0.6691 - val_accuracy: 0.5929\n",
            "Epoch 29/50\n",
            "1119/1119 [==============================] - 0s 183us/step - loss: 0.6685 - accuracy: 0.5943 - val_loss: 0.6685 - val_accuracy: 0.5964\n",
            "Epoch 30/50\n",
            "1119/1119 [==============================] - 0s 184us/step - loss: 0.6679 - accuracy: 0.5934 - val_loss: 0.6680 - val_accuracy: 0.6036\n",
            "Epoch 31/50\n",
            "1119/1119 [==============================] - 0s 188us/step - loss: 0.6672 - accuracy: 0.5952 - val_loss: 0.6674 - val_accuracy: 0.6036\n",
            "Epoch 32/50\n",
            "1119/1119 [==============================] - 0s 196us/step - loss: 0.6666 - accuracy: 0.5961 - val_loss: 0.6669 - val_accuracy: 0.6036\n",
            "Epoch 33/50\n",
            "1119/1119 [==============================] - 0s 182us/step - loss: 0.6659 - accuracy: 0.5925 - val_loss: 0.6663 - val_accuracy: 0.6071\n",
            "Epoch 34/50\n",
            "1119/1119 [==============================] - 0s 189us/step - loss: 0.6652 - accuracy: 0.5961 - val_loss: 0.6657 - val_accuracy: 0.6071\n",
            "Epoch 35/50\n",
            "1119/1119 [==============================] - 0s 189us/step - loss: 0.6646 - accuracy: 0.5961 - val_loss: 0.6653 - val_accuracy: 0.6071\n",
            "Epoch 36/50\n",
            "1119/1119 [==============================] - 0s 185us/step - loss: 0.6640 - accuracy: 0.5970 - val_loss: 0.6647 - val_accuracy: 0.6071\n",
            "Epoch 37/50\n",
            "1119/1119 [==============================] - 0s 205us/step - loss: 0.6633 - accuracy: 0.5970 - val_loss: 0.6642 - val_accuracy: 0.6143\n",
            "Epoch 38/50\n",
            "1119/1119 [==============================] - 0s 185us/step - loss: 0.6627 - accuracy: 0.5987 - val_loss: 0.6637 - val_accuracy: 0.6143\n",
            "Epoch 39/50\n",
            "1119/1119 [==============================] - 0s 183us/step - loss: 0.6621 - accuracy: 0.5979 - val_loss: 0.6631 - val_accuracy: 0.6179\n",
            "Epoch 40/50\n",
            "1119/1119 [==============================] - 0s 193us/step - loss: 0.6615 - accuracy: 0.6023 - val_loss: 0.6627 - val_accuracy: 0.6250\n",
            "Epoch 41/50\n",
            "1119/1119 [==============================] - 0s 186us/step - loss: 0.6609 - accuracy: 0.5987 - val_loss: 0.6621 - val_accuracy: 0.6286\n",
            "Epoch 42/50\n",
            "1119/1119 [==============================] - 0s 191us/step - loss: 0.6602 - accuracy: 0.6014 - val_loss: 0.6617 - val_accuracy: 0.6286\n",
            "Epoch 43/50\n",
            "1119/1119 [==============================] - 0s 191us/step - loss: 0.6596 - accuracy: 0.6005 - val_loss: 0.6611 - val_accuracy: 0.6393\n",
            "Epoch 44/50\n",
            "1119/1119 [==============================] - 0s 182us/step - loss: 0.6590 - accuracy: 0.6068 - val_loss: 0.6606 - val_accuracy: 0.6393\n",
            "Epoch 45/50\n",
            "1119/1119 [==============================] - 0s 190us/step - loss: 0.6584 - accuracy: 0.6086 - val_loss: 0.6602 - val_accuracy: 0.6321\n",
            "Epoch 46/50\n",
            "1119/1119 [==============================] - 0s 193us/step - loss: 0.6578 - accuracy: 0.6130 - val_loss: 0.6596 - val_accuracy: 0.6357\n",
            "Epoch 47/50\n",
            "1119/1119 [==============================] - 0s 186us/step - loss: 0.6572 - accuracy: 0.6175 - val_loss: 0.6590 - val_accuracy: 0.6357\n",
            "Epoch 48/50\n",
            "1119/1119 [==============================] - 0s 187us/step - loss: 0.6565 - accuracy: 0.6193 - val_loss: 0.6586 - val_accuracy: 0.6321\n",
            "Epoch 49/50\n",
            "1119/1119 [==============================] - 0s 193us/step - loss: 0.6559 - accuracy: 0.6193 - val_loss: 0.6582 - val_accuracy: 0.6429\n",
            "Epoch 50/50\n",
            "1119/1119 [==============================] - 0s 186us/step - loss: 0.6553 - accuracy: 0.6157 - val_loss: 0.6576 - val_accuracy: 0.6429\n"
          ],
          "name": "stdout"
        },
        {
          "output_type": "display_data",
          "data": {
            "image/png": "[encoded data removed]",
            "text/plain": [
              "<Figure size 432x288 with 1 Axes>"
            ]
          },
          "metadata": {
            "tags": [],
            "needs_background": "light"
          }
        }
      ]
    },
    {
      "cell_type": "code",
      "metadata": {
        "id": "i3v1D2xxV1sn",
        "colab_type": "code",
        "colab": {
          "base_uri": "https://localhost:8080/",
          "height": 295
        },
        "outputId": "c637e353-efc6-4faf-89b7-962c5fcc0ab5"
      },
      "source": [
        "plt.plot(hist3.history['accuracy'])\n",
        "plt.plot(hist3.history['val_accuracy'])\n",
        "plt.title('Model Accuracy')\n",
        "plt.ylabel('Loss')\n",
        "plt.xlabel('Epoch')\n",
        "plt.legend(['Train', 'Val'], loc='upper right')\n",
        "plt.show()"
      ],
      "execution_count": 23,
      "outputs": [
        {
          "output_type": "display_data",
          "data": {
            "image/png": "[encoded data removed]",
            "text/plain": [
              "<Figure size 432x288 with 1 Axes>"
            ]
          },
          "metadata": {
            "tags": [],
            "needs_background": "light"
          }
        }
      ]
    },
    {
      "cell_type": "markdown",
      "metadata": {
        "id": "9Nv4Um82V1s8",
        "colab_type": "text"
      },
      "source": [
        "# Hyper parameter tuning\n"
      ]
    },
    {
      "cell_type": "code",
      "metadata": {
        "id": "KSyZEM4aPJ4B",
        "colab_type": "code",
        "colab": {}
      },
      "source": [
        "from keras import regularizers      #for l2 regularization\n",
        "from keras.wrappers.scikit_learn import KerasClassifier \n",
        "from sklearn.model_selection import RandomizedSearchCV\n",
        "from sklearn.model_selection import KFold \n",
        "from sklearn.model_selection import cross_val_score\n",
        "from keras.layers import Dropout\n",
        "from sklearn.model_selection import GridSearchCV\n",
        "from keras.models import Sequential\n",
        "from keras.layers import Dense\n",
        "from keras.wrappers.scikit_learn import KerasClassifier\n",
        "from keras.optimizers import SGD,Adagrad,Adam,Adadelta,Adamax,Nadam\n",
        "\n",
        "# Function to create model, required for KerasClassifier\n",
        "def create_model(neurons=1,optimizer ='adam',init_mode='uniform',activation='relu',learn_rate=0.01):\n",
        "\t# create model\n",
        "\tmodel = Sequential()\n",
        "\tmodel.add(Dense(neurons, input_dim=23,kernel_initializer=init_mode, activation=activation))\n",
        "\tmodel.add(Dense(1, activation='sigmoid'))\n",
        "\t# Compile model\n",
        "\tmodel.compile(loss='binary_crossentropy', optimizer=optimizer(lr= learn_rate), metrics=['accuracy'])\n",
        "\treturn model\n"
      ],
      "execution_count": 62,
      "outputs": []
    },
    {
      "cell_type": "code",
      "metadata": {
        "id": "dEo7fgtAPsfl",
        "colab_type": "code",
        "colab": {
          "base_uri": "https://localhost:8080/",
          "height": 207
        },
        "outputId": "681b84d9-9f70-4ef9-edcb-7f393eb718ae"
      },
      "source": [
        "model = KerasClassifier(build_fn=create_model, verbose=0)\n",
        "# define the grid search parameters\n",
        "batch_size = [10, 20, 40, 60]\n",
        "epochs = [ 30,50, 100]\n",
        "#optimizer = [ 'RMSprop', 'Adagrad', 'Adadelta', 'Adam', 'Adamax', 'Nadam']\n",
        "optimizer = [ SGD,Adagrad, Adadelta, Adam, Adamax, Nadam]\n",
        "init_mode = ['uniform', 'lecun_uniform', 'normal', 'zero', 'glorot_normal', 'glorot_uniform', 'he_normal', 'he_uniform']\n",
        "activation = ['softmax', 'softplus', 'softsign', 'relu', 'tanh', 'sigmoid', 'hard_sigmoid', 'linear']\n",
        "neurons = [ 5, 10,15, 20,50]\n",
        "learn_rate= [0.01, 0.001, 0.0001]\n",
        "param_grid = dict(batch_size=batch_size, epochs=epochs,optimizer=optimizer,init_mode=init_mode,\n",
        "                  activation= activation,neurons =neurons,learn_rate=learn_rate)\n",
        "RAD = RandomizedSearchCV(estimator=model, param_distributions=param_grid, n_jobs=-1, cv=3)\n",
        "RAD_result = RAD.fit(X_train_scale, y_train)\n",
        "RAD_result.best_score_, RAD_result.best_params_"
      ],
      "execution_count": 63,
      "outputs": [
        {
          "output_type": "stream",
          "text": [
            "/usr/local/lib/python3.6/dist-packages/joblib/externals/loky/process_executor.py:691: UserWarning: A worker stopped while some jobs were given to the executor. This can be caused by a too short worker timeout or by a memory leak.\n",
            "  \"timeout or by a memory leak.\", UserWarning\n"
          ],
          "name": "stderr"
        },
        {
          "output_type": "execute_result",
          "data": {
            "text/plain": [
              "(0.6747095584869385,\n",
              " {'activation': 'softsign',\n",
              "  'batch_size': 60,\n",
              "  'epochs': 50,\n",
              "  'init_mode': 'normal',\n",
              "  'learn_rate': 0.001,\n",
              "  'neurons': 50,\n",
              "  'optimizer': keras.optimizers.Nadam})"
            ]
          },
          "metadata": {
            "tags": []
          },
          "execution_count": 63
        }
      ]
    },
    {
      "cell_type": "markdown",
      "metadata": {
        "id": "qzT3wdi0ikYs",
        "colab_type": "text"
      },
      "source": [
        "Here we got 67% accuracy because we have very less amount of data because Hyperparameter tuning in Neural networks takes very long amount time. Now lets train model with these parameters"
      ]
    },
    {
      "cell_type": "code",
      "metadata": {
        "id": "hS-J98lSeEHw",
        "colab_type": "code",
        "colab": {
          "base_uri": "https://localhost:8080/",
          "height": 1000
        },
        "outputId": "6a84e1ac-26dd-45e5-d495-f711e8ffab54"
      },
      "source": [
        "model4 = Sequential([\n",
        "    Dense(50, activation='softsign', input_shape=(23,),kernel_initializer='normal'),\n",
        "    #Dense(10, activation='relu'),\n",
        "    Dense(1, activation='sigmoid'),\n",
        "])\n",
        "\n",
        "model4.compile(optimizer=Nadam(learning_rate=0.001),\n",
        "              loss='binary_crossentropy',\n",
        "              metrics=['accuracy'])\n",
        "\n",
        "hist4 = model4.fit(X_train_scale, y_train,\n",
        "          batch_size=60, epochs=50,\n",
        "          validation_data=(X_test_scale, y_test))\n",
        "\n",
        "plt.plot(hist4.history['loss'])\n",
        "plt.plot(hist4.history['val_loss'])\n",
        "plt.title('Model loss')\n",
        "plt.ylabel('Loss')\n",
        "plt.xlabel('Epoch')\n",
        "plt.legend(['Train', 'Val'], loc='upper right')\n",
        "plt.show()"
      ],
      "execution_count": 74,
      "outputs": [
        {
          "output_type": "stream",
          "text": [
            "Train on 1119 samples, validate on 280 samples\n",
            "Epoch 1/50\n",
            "1119/1119 [==============================] - 0s 184us/step - loss: 0.6901 - accuracy: 0.5299 - val_loss: 0.6780 - val_accuracy: 0.6250\n",
            "Epoch 2/50\n",
            "1119/1119 [==============================] - 0s 71us/step - loss: 0.6692 - accuracy: 0.6300 - val_loss: 0.6612 - val_accuracy: 0.6357\n",
            "Epoch 3/50\n",
            "1119/1119 [==============================] - 0s 71us/step - loss: 0.6537 - accuracy: 0.6434 - val_loss: 0.6493 - val_accuracy: 0.6286\n",
            "Epoch 4/50\n",
            "1119/1119 [==============================] - 0s 72us/step - loss: 0.6443 - accuracy: 0.6586 - val_loss: 0.6420 - val_accuracy: 0.6286\n",
            "Epoch 5/50\n",
            "1119/1119 [==============================] - 0s 74us/step - loss: 0.6378 - accuracy: 0.6542 - val_loss: 0.6354 - val_accuracy: 0.6464\n",
            "Epoch 6/50\n",
            "1119/1119 [==============================] - 0s 72us/step - loss: 0.6329 - accuracy: 0.6640 - val_loss: 0.6318 - val_accuracy: 0.6429\n",
            "Epoch 7/50\n",
            "1119/1119 [==============================] - 0s 84us/step - loss: 0.6297 - accuracy: 0.6631 - val_loss: 0.6302 - val_accuracy: 0.6393\n",
            "Epoch 8/50\n",
            "1119/1119 [==============================] - 0s 87us/step - loss: 0.6270 - accuracy: 0.6640 - val_loss: 0.6285 - val_accuracy: 0.6357\n",
            "Epoch 9/50\n",
            "1119/1119 [==============================] - 0s 79us/step - loss: 0.6248 - accuracy: 0.6667 - val_loss: 0.6275 - val_accuracy: 0.6357\n",
            "Epoch 10/50\n",
            "1119/1119 [==============================] - 0s 75us/step - loss: 0.6227 - accuracy: 0.6685 - val_loss: 0.6281 - val_accuracy: 0.6357\n",
            "Epoch 11/50\n",
            "1119/1119 [==============================] - 0s 72us/step - loss: 0.6212 - accuracy: 0.6685 - val_loss: 0.6244 - val_accuracy: 0.6393\n",
            "Epoch 12/50\n",
            "1119/1119 [==============================] - 0s 73us/step - loss: 0.6200 - accuracy: 0.6711 - val_loss: 0.6236 - val_accuracy: 0.6393\n",
            "Epoch 13/50\n",
            "1119/1119 [==============================] - 0s 71us/step - loss: 0.6184 - accuracy: 0.6720 - val_loss: 0.6250 - val_accuracy: 0.6393\n",
            "Epoch 14/50\n",
            "1119/1119 [==============================] - 0s 77us/step - loss: 0.6176 - accuracy: 0.6729 - val_loss: 0.6252 - val_accuracy: 0.6393\n",
            "Epoch 15/50\n",
            "1119/1119 [==============================] - 0s 74us/step - loss: 0.6165 - accuracy: 0.6720 - val_loss: 0.6221 - val_accuracy: 0.6429\n",
            "Epoch 16/50\n",
            "1119/1119 [==============================] - 0s 72us/step - loss: 0.6151 - accuracy: 0.6756 - val_loss: 0.6213 - val_accuracy: 0.6429\n",
            "Epoch 17/50\n",
            "1119/1119 [==============================] - 0s 71us/step - loss: 0.6140 - accuracy: 0.6747 - val_loss: 0.6211 - val_accuracy: 0.6536\n",
            "Epoch 18/50\n",
            "1119/1119 [==============================] - 0s 82us/step - loss: 0.6134 - accuracy: 0.6756 - val_loss: 0.6225 - val_accuracy: 0.6464\n",
            "Epoch 19/50\n",
            "1119/1119 [==============================] - 0s 73us/step - loss: 0.6121 - accuracy: 0.6783 - val_loss: 0.6209 - val_accuracy: 0.6500\n",
            "Epoch 20/50\n",
            "1119/1119 [==============================] - 0s 78us/step - loss: 0.6111 - accuracy: 0.6819 - val_loss: 0.6199 - val_accuracy: 0.6464\n",
            "Epoch 21/50\n",
            "1119/1119 [==============================] - 0s 77us/step - loss: 0.6106 - accuracy: 0.6801 - val_loss: 0.6209 - val_accuracy: 0.6500\n",
            "Epoch 22/50\n",
            "1119/1119 [==============================] - 0s 75us/step - loss: 0.6098 - accuracy: 0.6801 - val_loss: 0.6194 - val_accuracy: 0.6500\n",
            "Epoch 23/50\n",
            "1119/1119 [==============================] - 0s 76us/step - loss: 0.6090 - accuracy: 0.6801 - val_loss: 0.6178 - val_accuracy: 0.6536\n",
            "Epoch 24/50\n",
            "1119/1119 [==============================] - 0s 73us/step - loss: 0.6085 - accuracy: 0.6819 - val_loss: 0.6170 - val_accuracy: 0.6536\n",
            "Epoch 25/50\n",
            "1119/1119 [==============================] - 0s 73us/step - loss: 0.6075 - accuracy: 0.6792 - val_loss: 0.6168 - val_accuracy: 0.6536\n",
            "Epoch 26/50\n",
            "1119/1119 [==============================] - 0s 72us/step - loss: 0.6071 - accuracy: 0.6801 - val_loss: 0.6162 - val_accuracy: 0.6536\n",
            "Epoch 27/50\n",
            "1119/1119 [==============================] - 0s 73us/step - loss: 0.6059 - accuracy: 0.6783 - val_loss: 0.6182 - val_accuracy: 0.6500\n",
            "Epoch 28/50\n",
            "1119/1119 [==============================] - 0s 76us/step - loss: 0.6059 - accuracy: 0.6792 - val_loss: 0.6157 - val_accuracy: 0.6571\n",
            "Epoch 29/50\n",
            "1119/1119 [==============================] - 0s 79us/step - loss: 0.6058 - accuracy: 0.6819 - val_loss: 0.6156 - val_accuracy: 0.6536\n",
            "Epoch 30/50\n",
            "1119/1119 [==============================] - 0s 86us/step - loss: 0.6049 - accuracy: 0.6828 - val_loss: 0.6162 - val_accuracy: 0.6571\n",
            "Epoch 31/50\n",
            "1119/1119 [==============================] - 0s 76us/step - loss: 0.6042 - accuracy: 0.6783 - val_loss: 0.6142 - val_accuracy: 0.6536\n",
            "Epoch 32/50\n",
            "1119/1119 [==============================] - 0s 73us/step - loss: 0.6040 - accuracy: 0.6783 - val_loss: 0.6137 - val_accuracy: 0.6429\n",
            "Epoch 33/50\n",
            "1119/1119 [==============================] - 0s 73us/step - loss: 0.6037 - accuracy: 0.6783 - val_loss: 0.6152 - val_accuracy: 0.6536\n",
            "Epoch 34/50\n",
            "1119/1119 [==============================] - 0s 72us/step - loss: 0.6032 - accuracy: 0.6836 - val_loss: 0.6173 - val_accuracy: 0.6607\n",
            "Epoch 35/50\n",
            "1119/1119 [==============================] - 0s 80us/step - loss: 0.6031 - accuracy: 0.6774 - val_loss: 0.6150 - val_accuracy: 0.6571\n",
            "Epoch 36/50\n",
            "1119/1119 [==============================] - 0s 74us/step - loss: 0.6025 - accuracy: 0.6845 - val_loss: 0.6130 - val_accuracy: 0.6536\n",
            "Epoch 37/50\n",
            "1119/1119 [==============================] - 0s 72us/step - loss: 0.6017 - accuracy: 0.6801 - val_loss: 0.6132 - val_accuracy: 0.6536\n",
            "Epoch 38/50\n",
            "1119/1119 [==============================] - 0s 71us/step - loss: 0.6020 - accuracy: 0.6783 - val_loss: 0.6120 - val_accuracy: 0.6464\n",
            "Epoch 39/50\n",
            "1119/1119 [==============================] - 0s 74us/step - loss: 0.6015 - accuracy: 0.6872 - val_loss: 0.6130 - val_accuracy: 0.6500\n",
            "Epoch 40/50\n",
            "1119/1119 [==============================] - 0s 75us/step - loss: 0.6017 - accuracy: 0.6801 - val_loss: 0.6117 - val_accuracy: 0.6464\n",
            "Epoch 41/50\n",
            "1119/1119 [==============================] - 0s 74us/step - loss: 0.6006 - accuracy: 0.6890 - val_loss: 0.6164 - val_accuracy: 0.6607\n",
            "Epoch 42/50\n",
            "1119/1119 [==============================] - 0s 79us/step - loss: 0.6006 - accuracy: 0.6819 - val_loss: 0.6121 - val_accuracy: 0.6571\n",
            "Epoch 43/50\n",
            "1119/1119 [==============================] - 0s 79us/step - loss: 0.6005 - accuracy: 0.6810 - val_loss: 0.6102 - val_accuracy: 0.6464\n",
            "Epoch 44/50\n",
            "1119/1119 [==============================] - 0s 71us/step - loss: 0.6001 - accuracy: 0.6845 - val_loss: 0.6177 - val_accuracy: 0.6607\n",
            "Epoch 45/50\n",
            "1119/1119 [==============================] - 0s 74us/step - loss: 0.6005 - accuracy: 0.6872 - val_loss: 0.6170 - val_accuracy: 0.6607\n",
            "Epoch 46/50\n",
            "1119/1119 [==============================] - 0s 73us/step - loss: 0.6005 - accuracy: 0.6828 - val_loss: 0.6143 - val_accuracy: 0.6571\n",
            "Epoch 47/50\n",
            "1119/1119 [==============================] - 0s 76us/step - loss: 0.6003 - accuracy: 0.6810 - val_loss: 0.6110 - val_accuracy: 0.6571\n",
            "Epoch 48/50\n",
            "1119/1119 [==============================] - 0s 90us/step - loss: 0.5999 - accuracy: 0.6863 - val_loss: 0.6114 - val_accuracy: 0.6571\n",
            "Epoch 49/50\n",
            "1119/1119 [==============================] - 0s 73us/step - loss: 0.5991 - accuracy: 0.6908 - val_loss: 0.6113 - val_accuracy: 0.6607\n",
            "Epoch 50/50\n",
            "1119/1119 [==============================] - 0s 73us/step - loss: 0.5983 - accuracy: 0.6917 - val_loss: 0.6202 - val_accuracy: 0.6643\n"
          ],
          "name": "stdout"
        },
        {
          "output_type": "display_data",
          "data": {
            "image/png": "[encoded data removed]",
            "text/plain": [
              "<Figure size 432x288 with 1 Axes>"
            ]
          },
          "metadata": {
            "tags": [],
            "needs_background": "light"
          }
        }
      ]
    },
    {
      "cell_type": "code",
      "metadata": {
        "id": "DRYAGdglfuTd",
        "colab_type": "code",
        "colab": {
          "base_uri": "https://localhost:8080/",
          "height": 295
        },
        "outputId": "edac5245-8a81-4cbf-b94c-56b0be8cd04d"
      },
      "source": [
        "plt.plot(hist4.history['accuracy'])\n",
        "plt.plot(hist4.history['val_accuracy'])\n",
        "plt.title('Model Accuracy')\n",
        "plt.ylabel('Accuracy')\n",
        "plt.xlabel('Epoch')\n",
        "plt.legend(['Train', 'Val'], loc='upper right')\n",
        "plt.show()"
      ],
      "execution_count": 75,
      "outputs": [
        {
          "output_type": "display_data",
          "data": {
            "image/png": "[encoded data removed]",
            "text/plain": [
              "<Figure size 432x288 with 1 Axes>"
            ]
          },
          "metadata": {
            "tags": [],
            "needs_background": "light"
          }
        }
      ]
    }
  ]
}